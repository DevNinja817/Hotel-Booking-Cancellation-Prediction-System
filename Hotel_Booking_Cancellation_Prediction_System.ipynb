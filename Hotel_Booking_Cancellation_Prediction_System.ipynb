{
  "cells": [
    {
      "cell_type": "markdown",
      "metadata": {
        "id": "os0AZ9osolBt"
      },
      "source": [
        "# Hotel Booking Cancellation Prediction System"
      ]
    },
    {
      "cell_type": "markdown",
      "metadata": {
        "id": "S4q4kKGNNN-N"
      },
      "source": [
        "# 1. Data Pre-processing (30%)"
      ]
    },
    {
      "cell_type": "code",
      "execution_count": 247,
      "metadata": {
        "id": "4wf-SkHrLBev"
      },
      "outputs": [],
      "source": [
        "import pandas as pd"
      ]
    },
    {
      "cell_type": "markdown",
      "metadata": {
        "id": "N5XzuvAnLQLa"
      },
      "source": [
        "We need to import the Pandas library."
      ]
    },
    {
      "cell_type": "code",
      "execution_count": 248,
      "metadata": {
        "id": "q-TWpjiBMDqV"
      },
      "outputs": [],
      "source": [
        "df = pd.read_csv('/content/drive/MyDrive/Colab Notebooks/Assignment/hotel_bookings.csv')"
      ]
    },
    {
      "cell_type": "markdown",
      "metadata": {
        "id": "N3--4SUJMI-J"
      },
      "source": [
        "We now need to read the csv file."
      ]
    },
    {
      "cell_type": "code",
      "execution_count": 249,
      "metadata": {
        "id": "Sbqn1DJZsrb7"
      },
      "outputs": [],
      "source": [
        "completedata_df = df"
      ]
    },
    {
      "cell_type": "markdown",
      "metadata": {
        "id": "QXNpkdtxsyZd"
      },
      "source": [
        "Here we are just throwing everything from df into our new dataframe. It makes it easier to work with."
      ]
    },
    {
      "cell_type": "markdown",
      "metadata": {
        "id": "Ggf44V3awLk5"
      },
      "source": [
        "### Gain a comprehensive understanding of the dataset through summarisation and basic data checks. At minimum, you should examine data types and identify missing values."
      ]
    },
    {
      "cell_type": "code",
      "execution_count": 250,
      "metadata": {
        "colab": {
          "base_uri": "https://localhost:8080/"
        },
        "id": "-qG8LFO7s5iO",
        "outputId": "31ef39ac-028e-427c-d7b9-f2ce356a8284"
      },
      "outputs": [
        {
          "output_type": "stream",
          "name": "stdout",
          "text": [
            "<class 'pandas.core.frame.DataFrame'>\n",
            "RangeIndex: 119390 entries, 0 to 119389\n",
            "Data columns (total 32 columns):\n",
            " #   Column                          Non-Null Count   Dtype  \n",
            "---  ------                          --------------   -----  \n",
            " 0   hotel                           119390 non-null  object \n",
            " 1   is_canceled                     119390 non-null  int64  \n",
            " 2   lead_time                       119390 non-null  int64  \n",
            " 3   arrival_date_year               119390 non-null  int64  \n",
            " 4   arrival_date_month              119390 non-null  object \n",
            " 5   arrival_date_week_number        119390 non-null  int64  \n",
            " 6   arrival_date_day_of_month       119390 non-null  int64  \n",
            " 7   stays_in_weekend_nights         119390 non-null  int64  \n",
            " 8   stays_in_week_nights            119390 non-null  int64  \n",
            " 9   adults                          119390 non-null  int64  \n",
            " 10  children                        119386 non-null  float64\n",
            " 11  babies                          119390 non-null  int64  \n",
            " 12  meal                            119390 non-null  object \n",
            " 13  country                         118902 non-null  object \n",
            " 14  market_segment                  119390 non-null  object \n",
            " 15  distribution_channel            119390 non-null  object \n",
            " 16  is_repeated_guest               119390 non-null  int64  \n",
            " 17  previous_cancellations          119390 non-null  int64  \n",
            " 18  previous_bookings_not_canceled  119390 non-null  int64  \n",
            " 19  reserved_room_type              119390 non-null  object \n",
            " 20  assigned_room_type              119390 non-null  object \n",
            " 21  booking_changes                 119390 non-null  int64  \n",
            " 22  deposit_type                    119390 non-null  object \n",
            " 23  agent                           103050 non-null  float64\n",
            " 24  company                         6797 non-null    float64\n",
            " 25  days_in_waiting_list            119390 non-null  int64  \n",
            " 26  customer_type                   119390 non-null  object \n",
            " 27  adr                             119390 non-null  float64\n",
            " 28  required_car_parking_spaces     119390 non-null  int64  \n",
            " 29  total_of_special_requests       119390 non-null  int64  \n",
            " 30  reservation_status              119390 non-null  object \n",
            " 31  reservation_status_date         119390 non-null  object \n",
            "dtypes: float64(4), int64(16), object(12)\n",
            "memory usage: 29.1+ MB\n"
          ]
        }
      ],
      "source": [
        "completedata_df.info()"
      ]
    },
    {
      "cell_type": "markdown",
      "metadata": {
        "id": "cyjIkzsDtU1d"
      },
      "source": [
        "We need to identify the different datatypes within our dataset."
      ]
    },
    {
      "cell_type": "code",
      "execution_count": 251,
      "metadata": {
        "colab": {
          "base_uri": "https://localhost:8080/",
          "height": 320
        },
        "id": "KwedJ_xT6pCD",
        "outputId": "aa55cee6-3265-4c8b-edc0-81ce5b8046e1"
      },
      "outputs": [
        {
          "output_type": "execute_result",
          "data": {
            "text/plain": [
              "         is_canceled      lead_time  arrival_date_year  \\\n",
              "count  119390.000000  119390.000000      119390.000000   \n",
              "mean        0.370416     104.011416        2016.156554   \n",
              "std         0.482918     106.863097           0.707476   \n",
              "min         0.000000       0.000000        2015.000000   \n",
              "25%         0.000000      18.000000        2016.000000   \n",
              "50%         0.000000      69.000000        2016.000000   \n",
              "75%         1.000000     160.000000        2017.000000   \n",
              "max         1.000000     737.000000        2017.000000   \n",
              "\n",
              "       arrival_date_week_number  arrival_date_day_of_month  \\\n",
              "count             119390.000000              119390.000000   \n",
              "mean                  27.165173                  15.798241   \n",
              "std                   13.605138                   8.780829   \n",
              "min                    1.000000                   1.000000   \n",
              "25%                   16.000000                   8.000000   \n",
              "50%                   28.000000                  16.000000   \n",
              "75%                   38.000000                  23.000000   \n",
              "max                   53.000000                  31.000000   \n",
              "\n",
              "       stays_in_weekend_nights  stays_in_week_nights         adults  \\\n",
              "count            119390.000000         119390.000000  119390.000000   \n",
              "mean                  0.927599              2.500302       1.856403   \n",
              "std                   0.998613              1.908286       0.579261   \n",
              "min                   0.000000              0.000000       0.000000   \n",
              "25%                   0.000000              1.000000       2.000000   \n",
              "50%                   1.000000              2.000000       2.000000   \n",
              "75%                   2.000000              3.000000       2.000000   \n",
              "max                  19.000000             50.000000      55.000000   \n",
              "\n",
              "            children         babies  is_repeated_guest  \\\n",
              "count  119386.000000  119390.000000      119390.000000   \n",
              "mean        0.103890       0.007949           0.031912   \n",
              "std         0.398561       0.097436           0.175767   \n",
              "min         0.000000       0.000000           0.000000   \n",
              "25%         0.000000       0.000000           0.000000   \n",
              "50%         0.000000       0.000000           0.000000   \n",
              "75%         0.000000       0.000000           0.000000   \n",
              "max        10.000000      10.000000           1.000000   \n",
              "\n",
              "       previous_cancellations  previous_bookings_not_canceled  \\\n",
              "count           119390.000000                   119390.000000   \n",
              "mean                 0.087118                        0.137097   \n",
              "std                  0.844336                        1.497437   \n",
              "min                  0.000000                        0.000000   \n",
              "25%                  0.000000                        0.000000   \n",
              "50%                  0.000000                        0.000000   \n",
              "75%                  0.000000                        0.000000   \n",
              "max                 26.000000                       72.000000   \n",
              "\n",
              "       booking_changes          agent      company  days_in_waiting_list  \\\n",
              "count    119390.000000  103050.000000  6797.000000         119390.000000   \n",
              "mean          0.221124      86.693382   189.266735              2.321149   \n",
              "std           0.652306     110.774548   131.655015             17.594721   \n",
              "min           0.000000       1.000000     6.000000              0.000000   \n",
              "25%           0.000000       9.000000    62.000000              0.000000   \n",
              "50%           0.000000      14.000000   179.000000              0.000000   \n",
              "75%           0.000000     229.000000   270.000000              0.000000   \n",
              "max          21.000000     535.000000   543.000000            391.000000   \n",
              "\n",
              "                 adr  required_car_parking_spaces  total_of_special_requests  \n",
              "count  119390.000000                119390.000000              119390.000000  \n",
              "mean      101.831122                     0.062518                   0.571363  \n",
              "std        50.535790                     0.245291                   0.792798  \n",
              "min        -6.380000                     0.000000                   0.000000  \n",
              "25%        69.290000                     0.000000                   0.000000  \n",
              "50%        94.575000                     0.000000                   0.000000  \n",
              "75%       126.000000                     0.000000                   1.000000  \n",
              "max      5400.000000                     8.000000                   5.000000  "
            ],
            "text/html": [
              "\n",
              "  <div id=\"df-b0094914-fb56-4dcf-8bee-d792d45068fd\" class=\"colab-df-container\">\n",
              "    <div>\n",
              "<style scoped>\n",
              "    .dataframe tbody tr th:only-of-type {\n",
              "        vertical-align: middle;\n",
              "    }\n",
              "\n",
              "    .dataframe tbody tr th {\n",
              "        vertical-align: top;\n",
              "    }\n",
              "\n",
              "    .dataframe thead th {\n",
              "        text-align: right;\n",
              "    }\n",
              "</style>\n",
              "<table border=\"1\" class=\"dataframe\">\n",
              "  <thead>\n",
              "    <tr style=\"text-align: right;\">\n",
              "      <th></th>\n",
              "      <th>is_canceled</th>\n",
              "      <th>lead_time</th>\n",
              "      <th>arrival_date_year</th>\n",
              "      <th>arrival_date_week_number</th>\n",
              "      <th>arrival_date_day_of_month</th>\n",
              "      <th>stays_in_weekend_nights</th>\n",
              "      <th>stays_in_week_nights</th>\n",
              "      <th>adults</th>\n",
              "      <th>children</th>\n",
              "      <th>babies</th>\n",
              "      <th>is_repeated_guest</th>\n",
              "      <th>previous_cancellations</th>\n",
              "      <th>previous_bookings_not_canceled</th>\n",
              "      <th>booking_changes</th>\n",
              "      <th>agent</th>\n",
              "      <th>company</th>\n",
              "      <th>days_in_waiting_list</th>\n",
              "      <th>adr</th>\n",
              "      <th>required_car_parking_spaces</th>\n",
              "      <th>total_of_special_requests</th>\n",
              "    </tr>\n",
              "  </thead>\n",
              "  <tbody>\n",
              "    <tr>\n",
              "      <th>count</th>\n",
              "      <td>119390.000000</td>\n",
              "      <td>119390.000000</td>\n",
              "      <td>119390.000000</td>\n",
              "      <td>119390.000000</td>\n",
              "      <td>119390.000000</td>\n",
              "      <td>119390.000000</td>\n",
              "      <td>119390.000000</td>\n",
              "      <td>119390.000000</td>\n",
              "      <td>119386.000000</td>\n",
              "      <td>119390.000000</td>\n",
              "      <td>119390.000000</td>\n",
              "      <td>119390.000000</td>\n",
              "      <td>119390.000000</td>\n",
              "      <td>119390.000000</td>\n",
              "      <td>103050.000000</td>\n",
              "      <td>6797.000000</td>\n",
              "      <td>119390.000000</td>\n",
              "      <td>119390.000000</td>\n",
              "      <td>119390.000000</td>\n",
              "      <td>119390.000000</td>\n",
              "    </tr>\n",
              "    <tr>\n",
              "      <th>mean</th>\n",
              "      <td>0.370416</td>\n",
              "      <td>104.011416</td>\n",
              "      <td>2016.156554</td>\n",
              "      <td>27.165173</td>\n",
              "      <td>15.798241</td>\n",
              "      <td>0.927599</td>\n",
              "      <td>2.500302</td>\n",
              "      <td>1.856403</td>\n",
              "      <td>0.103890</td>\n",
              "      <td>0.007949</td>\n",
              "      <td>0.031912</td>\n",
              "      <td>0.087118</td>\n",
              "      <td>0.137097</td>\n",
              "      <td>0.221124</td>\n",
              "      <td>86.693382</td>\n",
              "      <td>189.266735</td>\n",
              "      <td>2.321149</td>\n",
              "      <td>101.831122</td>\n",
              "      <td>0.062518</td>\n",
              "      <td>0.571363</td>\n",
              "    </tr>\n",
              "    <tr>\n",
              "      <th>std</th>\n",
              "      <td>0.482918</td>\n",
              "      <td>106.863097</td>\n",
              "      <td>0.707476</td>\n",
              "      <td>13.605138</td>\n",
              "      <td>8.780829</td>\n",
              "      <td>0.998613</td>\n",
              "      <td>1.908286</td>\n",
              "      <td>0.579261</td>\n",
              "      <td>0.398561</td>\n",
              "      <td>0.097436</td>\n",
              "      <td>0.175767</td>\n",
              "      <td>0.844336</td>\n",
              "      <td>1.497437</td>\n",
              "      <td>0.652306</td>\n",
              "      <td>110.774548</td>\n",
              "      <td>131.655015</td>\n",
              "      <td>17.594721</td>\n",
              "      <td>50.535790</td>\n",
              "      <td>0.245291</td>\n",
              "      <td>0.792798</td>\n",
              "    </tr>\n",
              "    <tr>\n",
              "      <th>min</th>\n",
              "      <td>0.000000</td>\n",
              "      <td>0.000000</td>\n",
              "      <td>2015.000000</td>\n",
              "      <td>1.000000</td>\n",
              "      <td>1.000000</td>\n",
              "      <td>0.000000</td>\n",
              "      <td>0.000000</td>\n",
              "      <td>0.000000</td>\n",
              "      <td>0.000000</td>\n",
              "      <td>0.000000</td>\n",
              "      <td>0.000000</td>\n",
              "      <td>0.000000</td>\n",
              "      <td>0.000000</td>\n",
              "      <td>0.000000</td>\n",
              "      <td>1.000000</td>\n",
              "      <td>6.000000</td>\n",
              "      <td>0.000000</td>\n",
              "      <td>-6.380000</td>\n",
              "      <td>0.000000</td>\n",
              "      <td>0.000000</td>\n",
              "    </tr>\n",
              "    <tr>\n",
              "      <th>25%</th>\n",
              "      <td>0.000000</td>\n",
              "      <td>18.000000</td>\n",
              "      <td>2016.000000</td>\n",
              "      <td>16.000000</td>\n",
              "      <td>8.000000</td>\n",
              "      <td>0.000000</td>\n",
              "      <td>1.000000</td>\n",
              "      <td>2.000000</td>\n",
              "      <td>0.000000</td>\n",
              "      <td>0.000000</td>\n",
              "      <td>0.000000</td>\n",
              "      <td>0.000000</td>\n",
              "      <td>0.000000</td>\n",
              "      <td>0.000000</td>\n",
              "      <td>9.000000</td>\n",
              "      <td>62.000000</td>\n",
              "      <td>0.000000</td>\n",
              "      <td>69.290000</td>\n",
              "      <td>0.000000</td>\n",
              "      <td>0.000000</td>\n",
              "    </tr>\n",
              "    <tr>\n",
              "      <th>50%</th>\n",
              "      <td>0.000000</td>\n",
              "      <td>69.000000</td>\n",
              "      <td>2016.000000</td>\n",
              "      <td>28.000000</td>\n",
              "      <td>16.000000</td>\n",
              "      <td>1.000000</td>\n",
              "      <td>2.000000</td>\n",
              "      <td>2.000000</td>\n",
              "      <td>0.000000</td>\n",
              "      <td>0.000000</td>\n",
              "      <td>0.000000</td>\n",
              "      <td>0.000000</td>\n",
              "      <td>0.000000</td>\n",
              "      <td>0.000000</td>\n",
              "      <td>14.000000</td>\n",
              "      <td>179.000000</td>\n",
              "      <td>0.000000</td>\n",
              "      <td>94.575000</td>\n",
              "      <td>0.000000</td>\n",
              "      <td>0.000000</td>\n",
              "    </tr>\n",
              "    <tr>\n",
              "      <th>75%</th>\n",
              "      <td>1.000000</td>\n",
              "      <td>160.000000</td>\n",
              "      <td>2017.000000</td>\n",
              "      <td>38.000000</td>\n",
              "      <td>23.000000</td>\n",
              "      <td>2.000000</td>\n",
              "      <td>3.000000</td>\n",
              "      <td>2.000000</td>\n",
              "      <td>0.000000</td>\n",
              "      <td>0.000000</td>\n",
              "      <td>0.000000</td>\n",
              "      <td>0.000000</td>\n",
              "      <td>0.000000</td>\n",
              "      <td>0.000000</td>\n",
              "      <td>229.000000</td>\n",
              "      <td>270.000000</td>\n",
              "      <td>0.000000</td>\n",
              "      <td>126.000000</td>\n",
              "      <td>0.000000</td>\n",
              "      <td>1.000000</td>\n",
              "    </tr>\n",
              "    <tr>\n",
              "      <th>max</th>\n",
              "      <td>1.000000</td>\n",
              "      <td>737.000000</td>\n",
              "      <td>2017.000000</td>\n",
              "      <td>53.000000</td>\n",
              "      <td>31.000000</td>\n",
              "      <td>19.000000</td>\n",
              "      <td>50.000000</td>\n",
              "      <td>55.000000</td>\n",
              "      <td>10.000000</td>\n",
              "      <td>10.000000</td>\n",
              "      <td>1.000000</td>\n",
              "      <td>26.000000</td>\n",
              "      <td>72.000000</td>\n",
              "      <td>21.000000</td>\n",
              "      <td>535.000000</td>\n",
              "      <td>543.000000</td>\n",
              "      <td>391.000000</td>\n",
              "      <td>5400.000000</td>\n",
              "      <td>8.000000</td>\n",
              "      <td>5.000000</td>\n",
              "    </tr>\n",
              "  </tbody>\n",
              "</table>\n",
              "</div>\n",
              "    <div class=\"colab-df-buttons\">\n",
              "\n",
              "  <div class=\"colab-df-container\">\n",
              "    <button class=\"colab-df-convert\" onclick=\"convertToInteractive('df-b0094914-fb56-4dcf-8bee-d792d45068fd')\"\n",
              "            title=\"Convert this dataframe to an interactive table.\"\n",
              "            style=\"display:none;\">\n",
              "\n",
              "  <svg xmlns=\"http://www.w3.org/2000/svg\" height=\"24px\" viewBox=\"0 -960 960 960\">\n",
              "    <path d=\"M120-120v-720h720v720H120Zm60-500h600v-160H180v160Zm220 220h160v-160H400v160Zm0 220h160v-160H400v160ZM180-400h160v-160H180v160Zm440 0h160v-160H620v160ZM180-180h160v-160H180v160Zm440 0h160v-160H620v160Z\"/>\n",
              "  </svg>\n",
              "    </button>\n",
              "\n",
              "  <style>\n",
              "    .colab-df-container {\n",
              "      display:flex;\n",
              "      gap: 12px;\n",
              "    }\n",
              "\n",
              "    .colab-df-convert {\n",
              "      background-color: #E8F0FE;\n",
              "      border: none;\n",
              "      border-radius: 50%;\n",
              "      cursor: pointer;\n",
              "      display: none;\n",
              "      fill: #1967D2;\n",
              "      height: 32px;\n",
              "      padding: 0 0 0 0;\n",
              "      width: 32px;\n",
              "    }\n",
              "\n",
              "    .colab-df-convert:hover {\n",
              "      background-color: #E2EBFA;\n",
              "      box-shadow: 0px 1px 2px rgba(60, 64, 67, 0.3), 0px 1px 3px 1px rgba(60, 64, 67, 0.15);\n",
              "      fill: #174EA6;\n",
              "    }\n",
              "\n",
              "    .colab-df-buttons div {\n",
              "      margin-bottom: 4px;\n",
              "    }\n",
              "\n",
              "    [theme=dark] .colab-df-convert {\n",
              "      background-color: #3B4455;\n",
              "      fill: #D2E3FC;\n",
              "    }\n",
              "\n",
              "    [theme=dark] .colab-df-convert:hover {\n",
              "      background-color: #434B5C;\n",
              "      box-shadow: 0px 1px 3px 1px rgba(0, 0, 0, 0.15);\n",
              "      filter: drop-shadow(0px 1px 2px rgba(0, 0, 0, 0.3));\n",
              "      fill: #FFFFFF;\n",
              "    }\n",
              "  </style>\n",
              "\n",
              "    <script>\n",
              "      const buttonEl =\n",
              "        document.querySelector('#df-b0094914-fb56-4dcf-8bee-d792d45068fd button.colab-df-convert');\n",
              "      buttonEl.style.display =\n",
              "        google.colab.kernel.accessAllowed ? 'block' : 'none';\n",
              "\n",
              "      async function convertToInteractive(key) {\n",
              "        const element = document.querySelector('#df-b0094914-fb56-4dcf-8bee-d792d45068fd');\n",
              "        const dataTable =\n",
              "          await google.colab.kernel.invokeFunction('convertToInteractive',\n",
              "                                                    [key], {});\n",
              "        if (!dataTable) return;\n",
              "\n",
              "        const docLinkHtml = 'Like what you see? Visit the ' +\n",
              "          '<a target=\"_blank\" href=https://colab.research.google.com/notebooks/data_table.ipynb>data table notebook</a>'\n",
              "          + ' to learn more about interactive tables.';\n",
              "        element.innerHTML = '';\n",
              "        dataTable['output_type'] = 'display_data';\n",
              "        await google.colab.output.renderOutput(dataTable, element);\n",
              "        const docLink = document.createElement('div');\n",
              "        docLink.innerHTML = docLinkHtml;\n",
              "        element.appendChild(docLink);\n",
              "      }\n",
              "    </script>\n",
              "  </div>\n",
              "\n",
              "\n",
              "<div id=\"df-1dcafd34-899f-4416-acce-630a2544600d\">\n",
              "  <button class=\"colab-df-quickchart\" onclick=\"quickchart('df-1dcafd34-899f-4416-acce-630a2544600d')\"\n",
              "            title=\"Suggest charts\"\n",
              "            style=\"display:none;\">\n",
              "\n",
              "<svg xmlns=\"http://www.w3.org/2000/svg\" height=\"24px\"viewBox=\"0 0 24 24\"\n",
              "     width=\"24px\">\n",
              "    <g>\n",
              "        <path d=\"M19 3H5c-1.1 0-2 .9-2 2v14c0 1.1.9 2 2 2h14c1.1 0 2-.9 2-2V5c0-1.1-.9-2-2-2zM9 17H7v-7h2v7zm4 0h-2V7h2v10zm4 0h-2v-4h2v4z\"/>\n",
              "    </g>\n",
              "</svg>\n",
              "  </button>\n",
              "\n",
              "<style>\n",
              "  .colab-df-quickchart {\n",
              "      --bg-color: #E8F0FE;\n",
              "      --fill-color: #1967D2;\n",
              "      --hover-bg-color: #E2EBFA;\n",
              "      --hover-fill-color: #174EA6;\n",
              "      --disabled-fill-color: #AAA;\n",
              "      --disabled-bg-color: #DDD;\n",
              "  }\n",
              "\n",
              "  [theme=dark] .colab-df-quickchart {\n",
              "      --bg-color: #3B4455;\n",
              "      --fill-color: #D2E3FC;\n",
              "      --hover-bg-color: #434B5C;\n",
              "      --hover-fill-color: #FFFFFF;\n",
              "      --disabled-bg-color: #3B4455;\n",
              "      --disabled-fill-color: #666;\n",
              "  }\n",
              "\n",
              "  .colab-df-quickchart {\n",
              "    background-color: var(--bg-color);\n",
              "    border: none;\n",
              "    border-radius: 50%;\n",
              "    cursor: pointer;\n",
              "    display: none;\n",
              "    fill: var(--fill-color);\n",
              "    height: 32px;\n",
              "    padding: 0;\n",
              "    width: 32px;\n",
              "  }\n",
              "\n",
              "  .colab-df-quickchart:hover {\n",
              "    background-color: var(--hover-bg-color);\n",
              "    box-shadow: 0 1px 2px rgba(60, 64, 67, 0.3), 0 1px 3px 1px rgba(60, 64, 67, 0.15);\n",
              "    fill: var(--button-hover-fill-color);\n",
              "  }\n",
              "\n",
              "  .colab-df-quickchart-complete:disabled,\n",
              "  .colab-df-quickchart-complete:disabled:hover {\n",
              "    background-color: var(--disabled-bg-color);\n",
              "    fill: var(--disabled-fill-color);\n",
              "    box-shadow: none;\n",
              "  }\n",
              "\n",
              "  .colab-df-spinner {\n",
              "    border: 2px solid var(--fill-color);\n",
              "    border-color: transparent;\n",
              "    border-bottom-color: var(--fill-color);\n",
              "    animation:\n",
              "      spin 1s steps(1) infinite;\n",
              "  }\n",
              "\n",
              "  @keyframes spin {\n",
              "    0% {\n",
              "      border-color: transparent;\n",
              "      border-bottom-color: var(--fill-color);\n",
              "      border-left-color: var(--fill-color);\n",
              "    }\n",
              "    20% {\n",
              "      border-color: transparent;\n",
              "      border-left-color: var(--fill-color);\n",
              "      border-top-color: var(--fill-color);\n",
              "    }\n",
              "    30% {\n",
              "      border-color: transparent;\n",
              "      border-left-color: var(--fill-color);\n",
              "      border-top-color: var(--fill-color);\n",
              "      border-right-color: var(--fill-color);\n",
              "    }\n",
              "    40% {\n",
              "      border-color: transparent;\n",
              "      border-right-color: var(--fill-color);\n",
              "      border-top-color: var(--fill-color);\n",
              "    }\n",
              "    60% {\n",
              "      border-color: transparent;\n",
              "      border-right-color: var(--fill-color);\n",
              "    }\n",
              "    80% {\n",
              "      border-color: transparent;\n",
              "      border-right-color: var(--fill-color);\n",
              "      border-bottom-color: var(--fill-color);\n",
              "    }\n",
              "    90% {\n",
              "      border-color: transparent;\n",
              "      border-bottom-color: var(--fill-color);\n",
              "    }\n",
              "  }\n",
              "</style>\n",
              "\n",
              "  <script>\n",
              "    async function quickchart(key) {\n",
              "      const quickchartButtonEl =\n",
              "        document.querySelector('#' + key + ' button');\n",
              "      quickchartButtonEl.disabled = true;  // To prevent multiple clicks.\n",
              "      quickchartButtonEl.classList.add('colab-df-spinner');\n",
              "      try {\n",
              "        const charts = await google.colab.kernel.invokeFunction(\n",
              "            'suggestCharts', [key], {});\n",
              "      } catch (error) {\n",
              "        console.error('Error during call to suggestCharts:', error);\n",
              "      }\n",
              "      quickchartButtonEl.classList.remove('colab-df-spinner');\n",
              "      quickchartButtonEl.classList.add('colab-df-quickchart-complete');\n",
              "    }\n",
              "    (() => {\n",
              "      let quickchartButtonEl =\n",
              "        document.querySelector('#df-1dcafd34-899f-4416-acce-630a2544600d button');\n",
              "      quickchartButtonEl.style.display =\n",
              "        google.colab.kernel.accessAllowed ? 'block' : 'none';\n",
              "    })();\n",
              "  </script>\n",
              "</div>\n",
              "    </div>\n",
              "  </div>\n"
            ]
          },
          "metadata": {},
          "execution_count": 251
        }
      ],
      "source": [
        "completedata_df.describe()"
      ]
    },
    {
      "cell_type": "markdown",
      "metadata": {
        "id": "YVhh1-5d62t2"
      },
      "source": [
        "Here is a statistical summary of our dataset."
      ]
    },
    {
      "cell_type": "code",
      "execution_count": 252,
      "metadata": {
        "colab": {
          "base_uri": "https://localhost:8080/"
        },
        "id": "tSmwM2ZZyfJ2",
        "outputId": "1e7dd0f9-5235-494e-9dc1-547216b5d350"
      },
      "outputs": [
        {
          "output_type": "execute_result",
          "data": {
            "text/plain": [
              "(119390, 32)"
            ]
          },
          "metadata": {},
          "execution_count": 252
        }
      ],
      "source": [
        "completedata_df.shape"
      ]
    },
    {
      "cell_type": "markdown",
      "metadata": {
        "id": "ClJtAXEnyi76"
      },
      "source": [
        "Its useful to know how large our dataset is by examining how many rows and columns it has."
      ]
    },
    {
      "cell_type": "code",
      "execution_count": 253,
      "metadata": {
        "id": "v97u9GkkKKjV"
      },
      "outputs": [],
      "source": [
        "completedata_df.drop(columns=['reservation_status_date'], inplace=True)"
      ]
    },
    {
      "cell_type": "markdown",
      "metadata": {
        "id": "txgjpAhRKpZO"
      },
      "source": [
        "Now we are going to drop the columns that are not needed. Now we need to do the same for the rest of the columns."
      ]
    },
    {
      "cell_type": "code",
      "execution_count": 254,
      "metadata": {
        "id": "rV05jMDTLiSE"
      },
      "outputs": [],
      "source": [
        "completedata_df.drop(columns=['reservation_status'], inplace=True)\n",
        "completedata_df.drop(columns=['assigned_room_type'], inplace=True)\n",
        "completedata_df.drop(columns=['arrival_date_day_of_month'], inplace=True)\n",
        "completedata_df.drop(columns=['arrival_date_week_number'], inplace=True)\n",
        "completedata_df.drop(columns=['arrival_date_year'], inplace=True)\n",
        "completedata_df.drop(columns=['days_in_waiting_list'], inplace=True)\n",
        "completedata_df.drop(columns=['company'], inplace=True)\n",
        "completedata_df.drop(columns=['agent'], inplace=True)\n",
        "completedata_df.drop(columns=['adr'], inplace=True)"
      ]
    },
    {
      "cell_type": "code",
      "execution_count": 255,
      "metadata": {
        "colab": {
          "base_uri": "https://localhost:8080/"
        },
        "id": "ELFWm6y4S3Ay",
        "outputId": "22c55917-d007-4bfb-f1f2-c5b26adad4a0"
      },
      "outputs": [
        {
          "output_type": "execute_result",
          "data": {
            "text/plain": [
              "(119390, 22)"
            ]
          },
          "metadata": {},
          "execution_count": 255
        }
      ],
      "source": [
        "completedata_df.shape"
      ]
    },
    {
      "cell_type": "markdown",
      "metadata": {
        "id": "t6ltdcBxS-sd"
      },
      "source": [
        "Here we can see that the columns have been dropped successfully, as now we are 10 columns less."
      ]
    },
    {
      "cell_type": "code",
      "execution_count": 256,
      "metadata": {
        "colab": {
          "base_uri": "https://localhost:8080/",
          "height": 342
        },
        "id": "VrReQdC6JXJb",
        "outputId": "812ae64d-708c-46f7-f574-cc453a6c3e5a"
      },
      "outputs": [
        {
          "output_type": "execute_result",
          "data": {
            "text/plain": [
              "          hotel  is_canceled  lead_time arrival_date_month  \\\n",
              "0  Resort Hotel            0        342               July   \n",
              "1  Resort Hotel            0        737               July   \n",
              "2  Resort Hotel            0          7               July   \n",
              "3  Resort Hotel            0         13               July   \n",
              "4  Resort Hotel            0         14               July   \n",
              "\n",
              "   stays_in_weekend_nights  stays_in_week_nights  adults  children  babies  \\\n",
              "0                        0                     0       2       0.0       0   \n",
              "1                        0                     0       2       0.0       0   \n",
              "2                        0                     1       1       0.0       0   \n",
              "3                        0                     1       1       0.0       0   \n",
              "4                        0                     2       2       0.0       0   \n",
              "\n",
              "  meal  ... distribution_channel is_repeated_guest previous_cancellations  \\\n",
              "0   BB  ...               Direct                 0                      0   \n",
              "1   BB  ...               Direct                 0                      0   \n",
              "2   BB  ...               Direct                 0                      0   \n",
              "3   BB  ...            Corporate                 0                      0   \n",
              "4   BB  ...                TA/TO                 0                      0   \n",
              "\n",
              "   previous_bookings_not_canceled  reserved_room_type  booking_changes  \\\n",
              "0                               0                   C                3   \n",
              "1                               0                   C                4   \n",
              "2                               0                   A                0   \n",
              "3                               0                   A                0   \n",
              "4                               0                   A                0   \n",
              "\n",
              "  deposit_type  customer_type required_car_parking_spaces  \\\n",
              "0   No Deposit      Transient                           0   \n",
              "1   No Deposit      Transient                           0   \n",
              "2   No Deposit      Transient                           0   \n",
              "3   No Deposit      Transient                           0   \n",
              "4   No Deposit      Transient                           0   \n",
              "\n",
              "  total_of_special_requests  \n",
              "0                         0  \n",
              "1                         0  \n",
              "2                         0  \n",
              "3                         0  \n",
              "4                         1  \n",
              "\n",
              "[5 rows x 22 columns]"
            ],
            "text/html": [
              "\n",
              "  <div id=\"df-cc904fcd-d9a8-44b8-86c1-94c9e2a7e848\" class=\"colab-df-container\">\n",
              "    <div>\n",
              "<style scoped>\n",
              "    .dataframe tbody tr th:only-of-type {\n",
              "        vertical-align: middle;\n",
              "    }\n",
              "\n",
              "    .dataframe tbody tr th {\n",
              "        vertical-align: top;\n",
              "    }\n",
              "\n",
              "    .dataframe thead th {\n",
              "        text-align: right;\n",
              "    }\n",
              "</style>\n",
              "<table border=\"1\" class=\"dataframe\">\n",
              "  <thead>\n",
              "    <tr style=\"text-align: right;\">\n",
              "      <th></th>\n",
              "      <th>hotel</th>\n",
              "      <th>is_canceled</th>\n",
              "      <th>lead_time</th>\n",
              "      <th>arrival_date_month</th>\n",
              "      <th>stays_in_weekend_nights</th>\n",
              "      <th>stays_in_week_nights</th>\n",
              "      <th>adults</th>\n",
              "      <th>children</th>\n",
              "      <th>babies</th>\n",
              "      <th>meal</th>\n",
              "      <th>...</th>\n",
              "      <th>distribution_channel</th>\n",
              "      <th>is_repeated_guest</th>\n",
              "      <th>previous_cancellations</th>\n",
              "      <th>previous_bookings_not_canceled</th>\n",
              "      <th>reserved_room_type</th>\n",
              "      <th>booking_changes</th>\n",
              "      <th>deposit_type</th>\n",
              "      <th>customer_type</th>\n",
              "      <th>required_car_parking_spaces</th>\n",
              "      <th>total_of_special_requests</th>\n",
              "    </tr>\n",
              "  </thead>\n",
              "  <tbody>\n",
              "    <tr>\n",
              "      <th>0</th>\n",
              "      <td>Resort Hotel</td>\n",
              "      <td>0</td>\n",
              "      <td>342</td>\n",
              "      <td>July</td>\n",
              "      <td>0</td>\n",
              "      <td>0</td>\n",
              "      <td>2</td>\n",
              "      <td>0.0</td>\n",
              "      <td>0</td>\n",
              "      <td>BB</td>\n",
              "      <td>...</td>\n",
              "      <td>Direct</td>\n",
              "      <td>0</td>\n",
              "      <td>0</td>\n",
              "      <td>0</td>\n",
              "      <td>C</td>\n",
              "      <td>3</td>\n",
              "      <td>No Deposit</td>\n",
              "      <td>Transient</td>\n",
              "      <td>0</td>\n",
              "      <td>0</td>\n",
              "    </tr>\n",
              "    <tr>\n",
              "      <th>1</th>\n",
              "      <td>Resort Hotel</td>\n",
              "      <td>0</td>\n",
              "      <td>737</td>\n",
              "      <td>July</td>\n",
              "      <td>0</td>\n",
              "      <td>0</td>\n",
              "      <td>2</td>\n",
              "      <td>0.0</td>\n",
              "      <td>0</td>\n",
              "      <td>BB</td>\n",
              "      <td>...</td>\n",
              "      <td>Direct</td>\n",
              "      <td>0</td>\n",
              "      <td>0</td>\n",
              "      <td>0</td>\n",
              "      <td>C</td>\n",
              "      <td>4</td>\n",
              "      <td>No Deposit</td>\n",
              "      <td>Transient</td>\n",
              "      <td>0</td>\n",
              "      <td>0</td>\n",
              "    </tr>\n",
              "    <tr>\n",
              "      <th>2</th>\n",
              "      <td>Resort Hotel</td>\n",
              "      <td>0</td>\n",
              "      <td>7</td>\n",
              "      <td>July</td>\n",
              "      <td>0</td>\n",
              "      <td>1</td>\n",
              "      <td>1</td>\n",
              "      <td>0.0</td>\n",
              "      <td>0</td>\n",
              "      <td>BB</td>\n",
              "      <td>...</td>\n",
              "      <td>Direct</td>\n",
              "      <td>0</td>\n",
              "      <td>0</td>\n",
              "      <td>0</td>\n",
              "      <td>A</td>\n",
              "      <td>0</td>\n",
              "      <td>No Deposit</td>\n",
              "      <td>Transient</td>\n",
              "      <td>0</td>\n",
              "      <td>0</td>\n",
              "    </tr>\n",
              "    <tr>\n",
              "      <th>3</th>\n",
              "      <td>Resort Hotel</td>\n",
              "      <td>0</td>\n",
              "      <td>13</td>\n",
              "      <td>July</td>\n",
              "      <td>0</td>\n",
              "      <td>1</td>\n",
              "      <td>1</td>\n",
              "      <td>0.0</td>\n",
              "      <td>0</td>\n",
              "      <td>BB</td>\n",
              "      <td>...</td>\n",
              "      <td>Corporate</td>\n",
              "      <td>0</td>\n",
              "      <td>0</td>\n",
              "      <td>0</td>\n",
              "      <td>A</td>\n",
              "      <td>0</td>\n",
              "      <td>No Deposit</td>\n",
              "      <td>Transient</td>\n",
              "      <td>0</td>\n",
              "      <td>0</td>\n",
              "    </tr>\n",
              "    <tr>\n",
              "      <th>4</th>\n",
              "      <td>Resort Hotel</td>\n",
              "      <td>0</td>\n",
              "      <td>14</td>\n",
              "      <td>July</td>\n",
              "      <td>0</td>\n",
              "      <td>2</td>\n",
              "      <td>2</td>\n",
              "      <td>0.0</td>\n",
              "      <td>0</td>\n",
              "      <td>BB</td>\n",
              "      <td>...</td>\n",
              "      <td>TA/TO</td>\n",
              "      <td>0</td>\n",
              "      <td>0</td>\n",
              "      <td>0</td>\n",
              "      <td>A</td>\n",
              "      <td>0</td>\n",
              "      <td>No Deposit</td>\n",
              "      <td>Transient</td>\n",
              "      <td>0</td>\n",
              "      <td>1</td>\n",
              "    </tr>\n",
              "  </tbody>\n",
              "</table>\n",
              "<p>5 rows × 22 columns</p>\n",
              "</div>\n",
              "    <div class=\"colab-df-buttons\">\n",
              "\n",
              "  <div class=\"colab-df-container\">\n",
              "    <button class=\"colab-df-convert\" onclick=\"convertToInteractive('df-cc904fcd-d9a8-44b8-86c1-94c9e2a7e848')\"\n",
              "            title=\"Convert this dataframe to an interactive table.\"\n",
              "            style=\"display:none;\">\n",
              "\n",
              "  <svg xmlns=\"http://www.w3.org/2000/svg\" height=\"24px\" viewBox=\"0 -960 960 960\">\n",
              "    <path d=\"M120-120v-720h720v720H120Zm60-500h600v-160H180v160Zm220 220h160v-160H400v160Zm0 220h160v-160H400v160ZM180-400h160v-160H180v160Zm440 0h160v-160H620v160ZM180-180h160v-160H180v160Zm440 0h160v-160H620v160Z\"/>\n",
              "  </svg>\n",
              "    </button>\n",
              "\n",
              "  <style>\n",
              "    .colab-df-container {\n",
              "      display:flex;\n",
              "      gap: 12px;\n",
              "    }\n",
              "\n",
              "    .colab-df-convert {\n",
              "      background-color: #E8F0FE;\n",
              "      border: none;\n",
              "      border-radius: 50%;\n",
              "      cursor: pointer;\n",
              "      display: none;\n",
              "      fill: #1967D2;\n",
              "      height: 32px;\n",
              "      padding: 0 0 0 0;\n",
              "      width: 32px;\n",
              "    }\n",
              "\n",
              "    .colab-df-convert:hover {\n",
              "      background-color: #E2EBFA;\n",
              "      box-shadow: 0px 1px 2px rgba(60, 64, 67, 0.3), 0px 1px 3px 1px rgba(60, 64, 67, 0.15);\n",
              "      fill: #174EA6;\n",
              "    }\n",
              "\n",
              "    .colab-df-buttons div {\n",
              "      margin-bottom: 4px;\n",
              "    }\n",
              "\n",
              "    [theme=dark] .colab-df-convert {\n",
              "      background-color: #3B4455;\n",
              "      fill: #D2E3FC;\n",
              "    }\n",
              "\n",
              "    [theme=dark] .colab-df-convert:hover {\n",
              "      background-color: #434B5C;\n",
              "      box-shadow: 0px 1px 3px 1px rgba(0, 0, 0, 0.15);\n",
              "      filter: drop-shadow(0px 1px 2px rgba(0, 0, 0, 0.3));\n",
              "      fill: #FFFFFF;\n",
              "    }\n",
              "  </style>\n",
              "\n",
              "    <script>\n",
              "      const buttonEl =\n",
              "        document.querySelector('#df-cc904fcd-d9a8-44b8-86c1-94c9e2a7e848 button.colab-df-convert');\n",
              "      buttonEl.style.display =\n",
              "        google.colab.kernel.accessAllowed ? 'block' : 'none';\n",
              "\n",
              "      async function convertToInteractive(key) {\n",
              "        const element = document.querySelector('#df-cc904fcd-d9a8-44b8-86c1-94c9e2a7e848');\n",
              "        const dataTable =\n",
              "          await google.colab.kernel.invokeFunction('convertToInteractive',\n",
              "                                                    [key], {});\n",
              "        if (!dataTable) return;\n",
              "\n",
              "        const docLinkHtml = 'Like what you see? Visit the ' +\n",
              "          '<a target=\"_blank\" href=https://colab.research.google.com/notebooks/data_table.ipynb>data table notebook</a>'\n",
              "          + ' to learn more about interactive tables.';\n",
              "        element.innerHTML = '';\n",
              "        dataTable['output_type'] = 'display_data';\n",
              "        await google.colab.output.renderOutput(dataTable, element);\n",
              "        const docLink = document.createElement('div');\n",
              "        docLink.innerHTML = docLinkHtml;\n",
              "        element.appendChild(docLink);\n",
              "      }\n",
              "    </script>\n",
              "  </div>\n",
              "\n",
              "\n",
              "<div id=\"df-b3297ac2-9366-4b1e-85f8-8c3ec8e0944d\">\n",
              "  <button class=\"colab-df-quickchart\" onclick=\"quickchart('df-b3297ac2-9366-4b1e-85f8-8c3ec8e0944d')\"\n",
              "            title=\"Suggest charts\"\n",
              "            style=\"display:none;\">\n",
              "\n",
              "<svg xmlns=\"http://www.w3.org/2000/svg\" height=\"24px\"viewBox=\"0 0 24 24\"\n",
              "     width=\"24px\">\n",
              "    <g>\n",
              "        <path d=\"M19 3H5c-1.1 0-2 .9-2 2v14c0 1.1.9 2 2 2h14c1.1 0 2-.9 2-2V5c0-1.1-.9-2-2-2zM9 17H7v-7h2v7zm4 0h-2V7h2v10zm4 0h-2v-4h2v4z\"/>\n",
              "    </g>\n",
              "</svg>\n",
              "  </button>\n",
              "\n",
              "<style>\n",
              "  .colab-df-quickchart {\n",
              "      --bg-color: #E8F0FE;\n",
              "      --fill-color: #1967D2;\n",
              "      --hover-bg-color: #E2EBFA;\n",
              "      --hover-fill-color: #174EA6;\n",
              "      --disabled-fill-color: #AAA;\n",
              "      --disabled-bg-color: #DDD;\n",
              "  }\n",
              "\n",
              "  [theme=dark] .colab-df-quickchart {\n",
              "      --bg-color: #3B4455;\n",
              "      --fill-color: #D2E3FC;\n",
              "      --hover-bg-color: #434B5C;\n",
              "      --hover-fill-color: #FFFFFF;\n",
              "      --disabled-bg-color: #3B4455;\n",
              "      --disabled-fill-color: #666;\n",
              "  }\n",
              "\n",
              "  .colab-df-quickchart {\n",
              "    background-color: var(--bg-color);\n",
              "    border: none;\n",
              "    border-radius: 50%;\n",
              "    cursor: pointer;\n",
              "    display: none;\n",
              "    fill: var(--fill-color);\n",
              "    height: 32px;\n",
              "    padding: 0;\n",
              "    width: 32px;\n",
              "  }\n",
              "\n",
              "  .colab-df-quickchart:hover {\n",
              "    background-color: var(--hover-bg-color);\n",
              "    box-shadow: 0 1px 2px rgba(60, 64, 67, 0.3), 0 1px 3px 1px rgba(60, 64, 67, 0.15);\n",
              "    fill: var(--button-hover-fill-color);\n",
              "  }\n",
              "\n",
              "  .colab-df-quickchart-complete:disabled,\n",
              "  .colab-df-quickchart-complete:disabled:hover {\n",
              "    background-color: var(--disabled-bg-color);\n",
              "    fill: var(--disabled-fill-color);\n",
              "    box-shadow: none;\n",
              "  }\n",
              "\n",
              "  .colab-df-spinner {\n",
              "    border: 2px solid var(--fill-color);\n",
              "    border-color: transparent;\n",
              "    border-bottom-color: var(--fill-color);\n",
              "    animation:\n",
              "      spin 1s steps(1) infinite;\n",
              "  }\n",
              "\n",
              "  @keyframes spin {\n",
              "    0% {\n",
              "      border-color: transparent;\n",
              "      border-bottom-color: var(--fill-color);\n",
              "      border-left-color: var(--fill-color);\n",
              "    }\n",
              "    20% {\n",
              "      border-color: transparent;\n",
              "      border-left-color: var(--fill-color);\n",
              "      border-top-color: var(--fill-color);\n",
              "    }\n",
              "    30% {\n",
              "      border-color: transparent;\n",
              "      border-left-color: var(--fill-color);\n",
              "      border-top-color: var(--fill-color);\n",
              "      border-right-color: var(--fill-color);\n",
              "    }\n",
              "    40% {\n",
              "      border-color: transparent;\n",
              "      border-right-color: var(--fill-color);\n",
              "      border-top-color: var(--fill-color);\n",
              "    }\n",
              "    60% {\n",
              "      border-color: transparent;\n",
              "      border-right-color: var(--fill-color);\n",
              "    }\n",
              "    80% {\n",
              "      border-color: transparent;\n",
              "      border-right-color: var(--fill-color);\n",
              "      border-bottom-color: var(--fill-color);\n",
              "    }\n",
              "    90% {\n",
              "      border-color: transparent;\n",
              "      border-bottom-color: var(--fill-color);\n",
              "    }\n",
              "  }\n",
              "</style>\n",
              "\n",
              "  <script>\n",
              "    async function quickchart(key) {\n",
              "      const quickchartButtonEl =\n",
              "        document.querySelector('#' + key + ' button');\n",
              "      quickchartButtonEl.disabled = true;  // To prevent multiple clicks.\n",
              "      quickchartButtonEl.classList.add('colab-df-spinner');\n",
              "      try {\n",
              "        const charts = await google.colab.kernel.invokeFunction(\n",
              "            'suggestCharts', [key], {});\n",
              "      } catch (error) {\n",
              "        console.error('Error during call to suggestCharts:', error);\n",
              "      }\n",
              "      quickchartButtonEl.classList.remove('colab-df-spinner');\n",
              "      quickchartButtonEl.classList.add('colab-df-quickchart-complete');\n",
              "    }\n",
              "    (() => {\n",
              "      let quickchartButtonEl =\n",
              "        document.querySelector('#df-b3297ac2-9366-4b1e-85f8-8c3ec8e0944d button');\n",
              "      quickchartButtonEl.style.display =\n",
              "        google.colab.kernel.accessAllowed ? 'block' : 'none';\n",
              "    })();\n",
              "  </script>\n",
              "</div>\n",
              "    </div>\n",
              "  </div>\n"
            ]
          },
          "metadata": {},
          "execution_count": 256
        }
      ],
      "source": [
        "completedata_df.head()"
      ]
    },
    {
      "cell_type": "markdown",
      "metadata": {
        "id": "a0l9FbZBTLLs"
      },
      "source": [
        "This also shows that we have done has worked."
      ]
    },
    {
      "cell_type": "code",
      "execution_count": 257,
      "metadata": {
        "colab": {
          "base_uri": "https://localhost:8080/"
        },
        "id": "oMI1s75VbcA3",
        "outputId": "03839081-94e0-44dd-900e-db472ca744ff"
      },
      "outputs": [
        {
          "output_type": "stream",
          "name": "stdout",
          "text": [
            "<class 'pandas.core.frame.DataFrame'>\n",
            "RangeIndex: 119390 entries, 0 to 119389\n",
            "Data columns (total 22 columns):\n",
            " #   Column                          Non-Null Count   Dtype  \n",
            "---  ------                          --------------   -----  \n",
            " 0   hotel                           119390 non-null  object \n",
            " 1   is_canceled                     119390 non-null  int64  \n",
            " 2   lead_time                       119390 non-null  int64  \n",
            " 3   arrival_date_month              119390 non-null  object \n",
            " 4   stays_in_weekend_nights         119390 non-null  int64  \n",
            " 5   stays_in_week_nights            119390 non-null  int64  \n",
            " 6   adults                          119390 non-null  int64  \n",
            " 7   children                        119386 non-null  float64\n",
            " 8   babies                          119390 non-null  int64  \n",
            " 9   meal                            119390 non-null  object \n",
            " 10  country                         118902 non-null  object \n",
            " 11  market_segment                  119390 non-null  object \n",
            " 12  distribution_channel            119390 non-null  object \n",
            " 13  is_repeated_guest               119390 non-null  int64  \n",
            " 14  previous_cancellations          119390 non-null  int64  \n",
            " 15  previous_bookings_not_canceled  119390 non-null  int64  \n",
            " 16  reserved_room_type              119390 non-null  object \n",
            " 17  booking_changes                 119390 non-null  int64  \n",
            " 18  deposit_type                    119390 non-null  object \n",
            " 19  customer_type                   119390 non-null  object \n",
            " 20  required_car_parking_spaces     119390 non-null  int64  \n",
            " 21  total_of_special_requests       119390 non-null  int64  \n",
            "dtypes: float64(1), int64(12), object(9)\n",
            "memory usage: 20.0+ MB\n"
          ]
        }
      ],
      "source": [
        "completedata_df.info()"
      ]
    },
    {
      "cell_type": "markdown",
      "metadata": {
        "id": "28evA-mCOzfA"
      },
      "source": [
        "Lets see if they have been dropped sucessfully."
      ]
    },
    {
      "cell_type": "markdown",
      "metadata": {
        "id": "T7hViYPkweeW"
      },
      "source": [
        "### Employ suitable techniques to address missing or inconsistent values, with clear justifications for your choices."
      ]
    },
    {
      "cell_type": "code",
      "execution_count": 258,
      "metadata": {
        "colab": {
          "base_uri": "https://localhost:8080/"
        },
        "id": "loJ2BKLMua1u",
        "outputId": "9a4cdb8d-f5f2-46d6-a5a2-33c84c612fff"
      },
      "outputs": [
        {
          "output_type": "execute_result",
          "data": {
            "text/plain": [
              "hotel                               0\n",
              "is_canceled                         0\n",
              "lead_time                           0\n",
              "arrival_date_month                  0\n",
              "stays_in_weekend_nights             0\n",
              "stays_in_week_nights                0\n",
              "adults                              0\n",
              "children                            4\n",
              "babies                              0\n",
              "meal                                0\n",
              "country                           488\n",
              "market_segment                      0\n",
              "distribution_channel                0\n",
              "is_repeated_guest                   0\n",
              "previous_cancellations              0\n",
              "previous_bookings_not_canceled      0\n",
              "reserved_room_type                  0\n",
              "booking_changes                     0\n",
              "deposit_type                        0\n",
              "customer_type                       0\n",
              "required_car_parking_spaces         0\n",
              "total_of_special_requests           0\n",
              "dtype: int64"
            ]
          },
          "metadata": {},
          "execution_count": 258
        }
      ],
      "source": [
        "completedata_df.isnull().sum()"
      ]
    },
    {
      "cell_type": "code",
      "execution_count": 259,
      "metadata": {
        "colab": {
          "base_uri": "https://localhost:8080/"
        },
        "id": "Q6PUBfv8t9ub",
        "outputId": "3cd12a8c-ad14-4f0e-af43-a9f729b6dfea"
      },
      "outputs": [
        {
          "output_type": "execute_result",
          "data": {
            "text/plain": [
              "hotel                               0\n",
              "is_canceled                         0\n",
              "lead_time                           0\n",
              "arrival_date_month                  0\n",
              "stays_in_weekend_nights             0\n",
              "stays_in_week_nights                0\n",
              "adults                              0\n",
              "children                            4\n",
              "babies                              0\n",
              "meal                                0\n",
              "country                           488\n",
              "market_segment                      0\n",
              "distribution_channel                0\n",
              "is_repeated_guest                   0\n",
              "previous_cancellations              0\n",
              "previous_bookings_not_canceled      0\n",
              "reserved_room_type                  0\n",
              "booking_changes                     0\n",
              "deposit_type                        0\n",
              "customer_type                       0\n",
              "required_car_parking_spaces         0\n",
              "total_of_special_requests           0\n",
              "dtype: int64"
            ]
          },
          "metadata": {},
          "execution_count": 259
        }
      ],
      "source": [
        "completedata_df.isna().sum()"
      ]
    },
    {
      "cell_type": "markdown",
      "metadata": {
        "id": "-QTAp2wMuc6U"
      },
      "source": [
        "Here we can see how many missing values there are in each category in our dataset."
      ]
    },
    {
      "cell_type": "code",
      "execution_count": 260,
      "metadata": {
        "id": "VDGMTY1cvcjf"
      },
      "outputs": [],
      "source": [
        "# Remove rows from data frame where \"country\" values are missing.\n",
        "\n",
        "completedata_df.dropna(subset = [\"country\"], inplace=True)"
      ]
    },
    {
      "cell_type": "markdown",
      "metadata": {
        "id": "Ifx3wWHzvkIW"
      },
      "source": [
        "We can either replace the missing values with some other values, or we can remove them completely from the dataset. I think that removing is missing values is good because it means that the data set is less likely to be biased compared to filling in these missing values with assumed values which proposes bias.\n",
        "\n",
        "Here we are going to remove the missing values in the \"country\" category.\n",
        "\n",
        "\n"
      ]
    },
    {
      "cell_type": "code",
      "execution_count": 261,
      "metadata": {
        "colab": {
          "base_uri": "https://localhost:8080/"
        },
        "id": "AEXF2NbVvocV",
        "outputId": "cf918a36-1fc7-4e8c-aefa-0abdbc430a0f"
      },
      "outputs": [
        {
          "output_type": "execute_result",
          "data": {
            "text/plain": [
              "hotel                             0\n",
              "is_canceled                       0\n",
              "lead_time                         0\n",
              "arrival_date_month                0\n",
              "stays_in_weekend_nights           0\n",
              "stays_in_week_nights              0\n",
              "adults                            0\n",
              "children                          4\n",
              "babies                            0\n",
              "meal                              0\n",
              "country                           0\n",
              "market_segment                    0\n",
              "distribution_channel              0\n",
              "is_repeated_guest                 0\n",
              "previous_cancellations            0\n",
              "previous_bookings_not_canceled    0\n",
              "reserved_room_type                0\n",
              "booking_changes                   0\n",
              "deposit_type                      0\n",
              "customer_type                     0\n",
              "required_car_parking_spaces       0\n",
              "total_of_special_requests         0\n",
              "dtype: int64"
            ]
          },
          "metadata": {},
          "execution_count": 261
        }
      ],
      "source": [
        "completedata_df.isna().sum()"
      ]
    },
    {
      "cell_type": "markdown",
      "metadata": {
        "id": "WRTgWM2Zvqu-"
      },
      "source": [
        "Here we can see we have removed the missing values from the category.\n",
        "\n",
        "Lets do the same for the rest of the columns."
      ]
    },
    {
      "cell_type": "code",
      "execution_count": 262,
      "metadata": {
        "id": "PTYJAeVAxyHo"
      },
      "outputs": [],
      "source": [
        "completedata_df.dropna(subset = [\"children\"], inplace=True)"
      ]
    },
    {
      "cell_type": "code",
      "execution_count": 263,
      "metadata": {
        "colab": {
          "base_uri": "https://localhost:8080/"
        },
        "id": "PdYIfsG9x1N7",
        "outputId": "93a29bc6-504f-4440-a4fe-d87c623343bd"
      },
      "outputs": [
        {
          "output_type": "execute_result",
          "data": {
            "text/plain": [
              "hotel                             0\n",
              "is_canceled                       0\n",
              "lead_time                         0\n",
              "arrival_date_month                0\n",
              "stays_in_weekend_nights           0\n",
              "stays_in_week_nights              0\n",
              "adults                            0\n",
              "children                          0\n",
              "babies                            0\n",
              "meal                              0\n",
              "country                           0\n",
              "market_segment                    0\n",
              "distribution_channel              0\n",
              "is_repeated_guest                 0\n",
              "previous_cancellations            0\n",
              "previous_bookings_not_canceled    0\n",
              "reserved_room_type                0\n",
              "booking_changes                   0\n",
              "deposit_type                      0\n",
              "customer_type                     0\n",
              "required_car_parking_spaces       0\n",
              "total_of_special_requests         0\n",
              "dtype: int64"
            ]
          },
          "metadata": {},
          "execution_count": 263
        }
      ],
      "source": [
        "completedata_df.isna().sum()"
      ]
    },
    {
      "cell_type": "markdown",
      "metadata": {
        "id": "298iDF3-x2Vs"
      },
      "source": [
        "Now our data has no missing values, and is clean."
      ]
    },
    {
      "cell_type": "markdown",
      "metadata": {
        "id": "dPIu-inayIWG"
      },
      "source": [
        "### Extract valuable insights from the dataset that could benefit hotel management, including the following at minimum:\n",
        "\n",
        "•\tCalculating cancellation percentages for City and Resort hotels.\n",
        "\n"
      ]
    },
    {
      "cell_type": "code",
      "execution_count": 264,
      "metadata": {
        "id": "pbk2rm7NyOra"
      },
      "outputs": [],
      "source": [
        "# I had a search around on Google,\n",
        "# and the groupby() method allows us to group and entire category of data.\n",
        "\n",
        "grouped = completedata_df.groupby('hotel')"
      ]
    },
    {
      "cell_type": "markdown",
      "metadata": {
        "id": "L4u0W2QF0VMb"
      },
      "source": [
        "Here we are grouping all the contents of the 'hotel' category."
      ]
    },
    {
      "cell_type": "code",
      "execution_count": 265,
      "metadata": {
        "colab": {
          "base_uri": "https://localhost:8080/"
        },
        "id": "FCKwn0i40Los",
        "outputId": "a49366c9-8fd6-4512-f08d-2895f0678e66"
      },
      "outputs": [
        {
          "output_type": "stream",
          "name": "stdout",
          "text": [
            "hotel\n",
            "City Hotel      79302\n",
            "Resort Hotel    39596\n",
            "Name: is_canceled, dtype: int64\n"
          ]
        }
      ],
      "source": [
        "total = grouped['is_canceled'].count()\n",
        "print(total)"
      ]
    },
    {
      "cell_type": "markdown",
      "metadata": {
        "id": "DulOeU6f0wzs"
      },
      "source": [
        "Now we can see the total bookings for both the city hotels, and the resort hotels."
      ]
    },
    {
      "cell_type": "code",
      "execution_count": 266,
      "metadata": {
        "colab": {
          "base_uri": "https://localhost:8080/"
        },
        "id": "8ueml_RK1Jix",
        "outputId": "7062c57d-eeb2-4616-a313-c6ef4fbca158"
      },
      "outputs": [
        {
          "output_type": "stream",
          "name": "stdout",
          "text": [
            "hotel\n",
            "City Hotel      33076\n",
            "Resort Hotel    11077\n",
            "Name: is_canceled, dtype: int64\n"
          ]
        }
      ],
      "source": [
        "canceled = grouped['is_canceled'].sum()\n",
        "print(canceled)"
      ]
    },
    {
      "cell_type": "markdown",
      "metadata": {
        "id": "EWd5xDLR2KGk"
      },
      "source": [
        "We now need to calculate ONLY the amount of cancellations for each of the hotel groups."
      ]
    },
    {
      "cell_type": "code",
      "execution_count": 267,
      "metadata": {
        "colab": {
          "base_uri": "https://localhost:8080/"
        },
        "id": "O5NoxAWy2Sf-",
        "outputId": "9d83f545-1f69-4cbd-9348-6650abcd2532"
      },
      "outputs": [
        {
          "output_type": "stream",
          "name": "stdout",
          "text": [
            "hotel\n",
            "City Hotel      41.708910\n",
            "Resort Hotel    27.975048\n",
            "Name: is_canceled, dtype: float64\n"
          ]
        }
      ],
      "source": [
        "canceled_percen = (canceled / total) * 100\n",
        "print(canceled_percen)"
      ]
    },
    {
      "cell_type": "markdown",
      "metadata": {
        "id": "9mJQqGIr23eR"
      },
      "source": [
        "Now we can do a bit of maths, and calcukate the overall cancellations for both groups, as a percentage.\n",
        "\n",
        "Time for the next bit!"
      ]
    },
    {
      "cell_type": "markdown",
      "metadata": {
        "id": "Mmx07lh6DW7v"
      },
      "source": [
        "•\tIdentifying the most frequently ordered meal types."
      ]
    },
    {
      "cell_type": "code",
      "execution_count": 268,
      "metadata": {
        "id": "3WL1f8CT3pd2"
      },
      "outputs": [],
      "source": [
        "meals = completedata_df['meal']"
      ]
    },
    {
      "cell_type": "markdown",
      "metadata": {
        "id": "8sEOEddg4XMj"
      },
      "source": [
        "Lets select the 'meal' category."
      ]
    },
    {
      "cell_type": "code",
      "execution_count": 269,
      "metadata": {
        "id": "dwFRjurX4cEU"
      },
      "outputs": [],
      "source": [
        "meal_counts = meals.value_counts()"
      ]
    },
    {
      "cell_type": "code",
      "execution_count": 270,
      "metadata": {
        "colab": {
          "base_uri": "https://localhost:8080/"
        },
        "id": "2MEjFrFyGUAk",
        "outputId": "d331ee81-97ac-41c4-cc79-d40858386350"
      },
      "outputs": [
        {
          "output_type": "stream",
          "name": "stdout",
          "text": [
            "['BB' 'FB' 'HB' 'SC' 'Undefined']\n"
          ]
        }
      ],
      "source": [
        "print(meals.unique())"
      ]
    },
    {
      "cell_type": "markdown",
      "metadata": {
        "id": "NiTUtCmZ4qGM"
      },
      "source": [
        "Lets get the unique rows in the set of data, so that when we do print out the meal count, we don't get all the repeats.\n",
        "\n"
      ]
    },
    {
      "cell_type": "code",
      "execution_count": 271,
      "metadata": {
        "colab": {
          "base_uri": "https://localhost:8080/"
        },
        "id": "kdvO0PgTIDdT",
        "outputId": "e0c0086e-5c6f-43fe-ce5d-a3ae58329617"
      },
      "outputs": [
        {
          "output_type": "stream",
          "name": "stdout",
          "text": [
            "BB           91863\n",
            "HB           14434\n",
            "SC           10638\n",
            "Undefined     1165\n",
            "FB             798\n",
            "Name: meal, dtype: int64\n"
          ]
        }
      ],
      "source": [
        "print(meal_counts.head())"
      ]
    },
    {
      "cell_type": "code",
      "execution_count": 272,
      "metadata": {
        "colab": {
          "base_uri": "https://localhost:8080/"
        },
        "id": "eVT0UQgb4tlh",
        "outputId": "5838da7c-db98-4fde-f6fa-386273577b5b"
      },
      "outputs": [
        {
          "output_type": "stream",
          "name": "stdout",
          "text": [
            "0    BB\n",
            "Name: meal, dtype: object\n"
          ]
        }
      ],
      "source": [
        "print(meals.mode())"
      ]
    },
    {
      "cell_type": "markdown",
      "metadata": {
        "id": "F3Od_Nsn4uzm"
      },
      "source": [
        "Now we print the unique rows out, and here we can see that BB is the most frequently ordered meal.\n",
        "\n",
        "Time for the next bit (its pretty much the same as we did before, so it'll be pretty straight forward to do)!"
      ]
    },
    {
      "cell_type": "markdown",
      "metadata": {
        "id": "7eKR_FyiDcPG"
      },
      "source": [
        "•\tDetermining the number of returning guests."
      ]
    },
    {
      "cell_type": "code",
      "execution_count": 273,
      "metadata": {
        "id": "Gr0d1hAT5NU1"
      },
      "outputs": [],
      "source": [
        "guests = completedata_df[['adults', 'children', 'babies']]"
      ]
    },
    {
      "cell_type": "markdown",
      "metadata": {
        "id": "b0xfjga65tRi"
      },
      "source": [
        "We need to select all of the neccesary categories, and the total will be stored in guests."
      ]
    },
    {
      "cell_type": "code",
      "execution_count": 274,
      "metadata": {
        "id": "k3sQat0f5y-5"
      },
      "outputs": [],
      "source": [
        "returning_guests = completedata_df['is_repeated_guest']"
      ]
    },
    {
      "cell_type": "markdown",
      "metadata": {
        "id": "akDWlBmJ7Vx5"
      },
      "source": [
        "Here we are selecting the contents of 'is_repeated_guest', and storing it in returning_guests."
      ]
    },
    {
      "cell_type": "code",
      "execution_count": 275,
      "metadata": {
        "id": "xSLjlUn87Eg4"
      },
      "outputs": [],
      "source": [
        "total_returning = returning_guests.sum()"
      ]
    },
    {
      "cell_type": "markdown",
      "metadata": {
        "id": "Hp-3Vmzn7e4W"
      },
      "source": [
        "Now we calculate the total of the returning guests."
      ]
    },
    {
      "cell_type": "code",
      "execution_count": 276,
      "metadata": {
        "colab": {
          "base_uri": "https://localhost:8080/"
        },
        "id": "JKS0_0a27G-A",
        "outputId": "74c53c02-d866-4d04-8122-bf82a1e1c8ba"
      },
      "outputs": [
        {
          "output_type": "stream",
          "name": "stdout",
          "text": [
            "3806\n"
          ]
        }
      ],
      "source": [
        "print(total_returning)"
      ]
    },
    {
      "cell_type": "markdown",
      "metadata": {
        "id": "dPfLTIxR7MPU"
      },
      "source": [
        "Here is the total number of returning guests.\n",
        "\n",
        "Time for the next bit (this bit is straight forward, we just need to do what we did with the meal_counts bit)!"
      ]
    },
    {
      "cell_type": "markdown",
      "metadata": {
        "id": "vggnjf-qDfeu"
      },
      "source": [
        "•\tFinding the most booked room types."
      ]
    },
    {
      "cell_type": "code",
      "execution_count": 277,
      "metadata": {
        "id": "HghxCWGb83bU"
      },
      "outputs": [],
      "source": [
        "room_types = completedata_df['hotel']"
      ]
    },
    {
      "cell_type": "markdown",
      "metadata": {
        "id": "LT5zsqOh9cBv"
      },
      "source": [
        "We need to select everything from hotel and store it in room types. In hotel we have city hotel, and resort hotel, and that's why we don't need to specify them individually."
      ]
    },
    {
      "cell_type": "code",
      "execution_count": 278,
      "metadata": {
        "id": "VZ93Imod9RpO"
      },
      "outputs": [],
      "source": [
        "room_counts = room_types.value_counts()"
      ]
    },
    {
      "cell_type": "markdown",
      "metadata": {
        "id": "WstF-QXT9pFy"
      },
      "source": [
        "Now we identify the unique values which, in this case, there is two unique values which are resort hotel and city hotel, and store in room counts, which then enables us to calculate find out the most booked rooms."
      ]
    },
    {
      "cell_type": "code",
      "execution_count": 279,
      "metadata": {
        "colab": {
          "base_uri": "https://localhost:8080/"
        },
        "id": "PKJGMQtl9WW4",
        "outputId": "21b1b470-20db-4a1f-8654-0766bbd3ba9d"
      },
      "outputs": [
        {
          "output_type": "stream",
          "name": "stdout",
          "text": [
            "City Hotel      79302\n",
            "Resort Hotel    39596\n",
            "Name: hotel, dtype: int64\n"
          ]
        }
      ],
      "source": [
        "print(room_counts.head())"
      ]
    },
    {
      "cell_type": "markdown",
      "metadata": {
        "id": "W_6gERQ190_8"
      },
      "source": [
        "Here we are now printing out the entirety of room count, which we can now see that result hotel is the most booked hotel.\n",
        "\n",
        "Time for the next bit!"
      ]
    },
    {
      "cell_type": "markdown",
      "metadata": {
        "id": "dx60G5JqDiZe"
      },
      "source": [
        "•\tExploring correlations between room types and cancellations."
      ]
    },
    {
      "cell_type": "code",
      "execution_count": 280,
      "metadata": {
        "colab": {
          "base_uri": "https://localhost:8080/"
        },
        "id": "5LYb8He5Rb2T",
        "outputId": "d3cd6fa5-b8d6-4a52-8648-42e854e3ea7b"
      },
      "outputs": [
        {
          "output_type": "stream",
          "name": "stdout",
          "text": [
            "<class 'pandas.core.frame.DataFrame'>\n",
            "Int64Index: 118898 entries, 0 to 119389\n",
            "Data columns (total 22 columns):\n",
            " #   Column                          Non-Null Count   Dtype  \n",
            "---  ------                          --------------   -----  \n",
            " 0   hotel                           118898 non-null  object \n",
            " 1   is_canceled                     118898 non-null  int64  \n",
            " 2   lead_time                       118898 non-null  int64  \n",
            " 3   arrival_date_month              118898 non-null  object \n",
            " 4   stays_in_weekend_nights         118898 non-null  int64  \n",
            " 5   stays_in_week_nights            118898 non-null  int64  \n",
            " 6   adults                          118898 non-null  int64  \n",
            " 7   children                        118898 non-null  float64\n",
            " 8   babies                          118898 non-null  int64  \n",
            " 9   meal                            118898 non-null  object \n",
            " 10  country                         118898 non-null  object \n",
            " 11  market_segment                  118898 non-null  object \n",
            " 12  distribution_channel            118898 non-null  object \n",
            " 13  is_repeated_guest               118898 non-null  int64  \n",
            " 14  previous_cancellations          118898 non-null  int64  \n",
            " 15  previous_bookings_not_canceled  118898 non-null  int64  \n",
            " 16  reserved_room_type              118898 non-null  object \n",
            " 17  booking_changes                 118898 non-null  int64  \n",
            " 18  deposit_type                    118898 non-null  object \n",
            " 19  customer_type                   118898 non-null  object \n",
            " 20  required_car_parking_spaces     118898 non-null  int64  \n",
            " 21  total_of_special_requests       118898 non-null  int64  \n",
            "dtypes: float64(1), int64(12), object(9)\n",
            "memory usage: 20.9+ MB\n"
          ]
        }
      ],
      "source": [
        "completedata_df.info()"
      ]
    },
    {
      "cell_type": "code",
      "execution_count": 281,
      "metadata": {
        "id": "nhnrUcGBQZrq"
      },
      "outputs": [],
      "source": [
        "correlation_df = completedata_df[['hotel', 'previous_cancellations']]"
      ]
    },
    {
      "cell_type": "markdown",
      "metadata": {
        "id": "kmTITr3rR3pz"
      },
      "source": [
        "We need to select the columns that we are trying to identify the correlation of, which we are storing that in a new dataframe called 'correlation_df'"
      ]
    },
    {
      "cell_type": "code",
      "execution_count": 282,
      "metadata": {
        "colab": {
          "base_uri": "https://localhost:8080/"
        },
        "id": "00oITwxTXgDi",
        "outputId": "fdd949c1-a4d5-49fb-d01b-2aa49ed00566"
      },
      "outputs": [
        {
          "output_type": "stream",
          "name": "stderr",
          "text": [
            "<ipython-input-282-160d1c62d569>:1: SettingWithCopyWarning: \n",
            "A value is trying to be set on a copy of a slice from a DataFrame.\n",
            "Try using .loc[row_indexer,col_indexer] = value instead\n",
            "\n",
            "See the caveats in the documentation: https://pandas.pydata.org/pandas-docs/stable/user_guide/indexing.html#returning-a-view-versus-a-copy\n",
            "  correlation_df['hotel'] = correlation_df['hotel'].replace({'City Hotel': 0, 'Resort Hotel': 1})\n"
          ]
        }
      ],
      "source": [
        "correlation_df['hotel'] = correlation_df['hotel'].replace({'City Hotel': 0, 'Resort Hotel': 1})"
      ]
    },
    {
      "cell_type": "markdown",
      "metadata": {
        "id": "ScGr3EvHC2qQ"
      },
      "source": [
        "Here we assign the attributes in the hotel column and numerical value, so therefore we are able to identify the correlation between them both. Of course, in order to do this, they both need to be numerical values, not different."
      ]
    },
    {
      "cell_type": "code",
      "execution_count": 283,
      "metadata": {
        "colab": {
          "base_uri": "https://localhost:8080/"
        },
        "id": "5RO84cT5SGh3",
        "outputId": "89b64ad6-2bdf-424b-da35-0d0c04625251"
      },
      "outputs": [
        {
          "output_type": "stream",
          "name": "stdout",
          "text": [
            "Correlation between hotel, and previous cancellations is:  0.012332091431858875\n"
          ]
        }
      ],
      "source": [
        "correlation = correlation_df['hotel'].corr(correlation_df['previous_cancellations'])\n",
        "print(\"Correlation between hotel, and previous cancellations is: \", +correlation)"
      ]
    },
    {
      "cell_type": "markdown",
      "metadata": {
        "id": "s8RJrblEDE08"
      },
      "source": [
        "So now both of the attributes in the hotel column are both numerical values so now we can identify the correlation between them both, which we use the corr method to find the pairwise correlation of all the columns"
      ]
    },
    {
      "cell_type": "markdown",
      "metadata": {
        "id": "M_K90tI_DlCm"
      },
      "source": [
        "•\tIdentifying the most common customer types."
      ]
    },
    {
      "cell_type": "code",
      "execution_count": 284,
      "metadata": {
        "id": "RSKQ1Pnt-OJT"
      },
      "outputs": [],
      "source": [
        "customer_types = completedata_df['customer_type']"
      ]
    },
    {
      "cell_type": "markdown",
      "metadata": {
        "id": "ClSyDmsm-mtD"
      },
      "source": [
        "We need to select everything from customer_type and store it in  customer_type."
      ]
    },
    {
      "cell_type": "code",
      "execution_count": 285,
      "metadata": {
        "id": "sdGGO_gd-Twz"
      },
      "outputs": [],
      "source": [
        "type_counts = customer_types.value_counts()"
      ]
    },
    {
      "cell_type": "markdown",
      "metadata": {
        "id": "Cb8ekWIu-swQ"
      },
      "source": [
        "Now we identify the unique values which, in this case, there is four unique values which are transient party, transient, group and contract, and store in type counts, which then enables us to calculate find out the most common."
      ]
    },
    {
      "cell_type": "code",
      "execution_count": 286,
      "metadata": {
        "colab": {
          "base_uri": "https://localhost:8080/"
        },
        "id": "uqM9VrjZ-VmK",
        "outputId": "f5e35e66-3338-42e4-f883-0217e08561b9"
      },
      "outputs": [
        {
          "output_type": "stream",
          "name": "stdout",
          "text": [
            "Transient          89174\n",
            "Transient-Party    25078\n",
            "Contract            4076\n",
            "Group                570\n",
            "Name: customer_type, dtype: int64\n"
          ]
        }
      ],
      "source": [
        "print(type_counts)"
      ]
    },
    {
      "cell_type": "markdown",
      "metadata": {
        "id": "izqavrdd-_lV"
      },
      "source": [
        "Here we are now printing out the entirety of type count, which we can now see that result transient party is the most common customer type.\n",
        "\n",
        "Time for the next bit!"
      ]
    },
    {
      "cell_type": "markdown",
      "metadata": {
        "id": "ElB_89nA_IDj"
      },
      "source": [
        "# 2. Exploratory Data Analysis (EDA) (15%):"
      ]
    },
    {
      "cell_type": "markdown",
      "metadata": {
        "id": "88yCwHMLPPMH"
      },
      "source": [
        "Generate a minimum of three visualisations to present important findings to upper management.\n",
        "\n",
        "At minimum, you should include:\n",
        "\n",
        "•\tA line graph illustrating the number of guests each month."
      ]
    },
    {
      "cell_type": "code",
      "execution_count": 287,
      "metadata": {
        "id": "3H6_S5NGAsX2"
      },
      "outputs": [],
      "source": [
        "import matplotlib.pyplot as plt"
      ]
    },
    {
      "cell_type": "markdown",
      "metadata": {
        "id": "NDdSbKtzBRpb"
      },
      "source": [
        "We need to import the matplotlib library, so we can make our graphs more comprehensive to understand by allowing us to do things like putting the X and Y axis, etc."
      ]
    },
    {
      "cell_type": "code",
      "execution_count": 288,
      "metadata": {
        "colab": {
          "base_uri": "https://localhost:8080/"
        },
        "id": "jEGLuBqS_T06",
        "outputId": "0e996b2c-5091-4d50-cb75-933f1532e06a"
      },
      "outputs": [
        {
          "output_type": "stream",
          "name": "stderr",
          "text": [
            "<ipython-input-288-4ec01e54baf8>:1: FutureWarning: The default value of numeric_only in DataFrameGroupBy.sum is deprecated. In a future version, numeric_only will default to False. Either specify numeric_only or select only columns which should be valid for the function.\n",
            "  monthly_guests = completedata_df.groupby(df['arrival_date_month']).sum()[['adults', 'children', 'babies']]\n"
          ]
        }
      ],
      "source": [
        "monthly_guests = completedata_df.groupby(df['arrival_date_month']).sum()[['adults', 'children', 'babies']]"
      ]
    },
    {
      "cell_type": "code",
      "execution_count": 289,
      "metadata": {
        "id": "Y6Ee5hQ0vxtE"
      },
      "outputs": [],
      "source": [
        "monthly_guests = monthly_guests.reset_index()"
      ]
    },
    {
      "cell_type": "markdown",
      "metadata": {
        "id": "9-WMYl0KBe-2"
      },
      "source": [
        "Now here we need to group the contents of the arrival date month and calculate how many in total of the role, but then also we need to select adults children and babies to calculate the overall total of people arriving."
      ]
    },
    {
      "cell_type": "code",
      "execution_count": 290,
      "metadata": {
        "colab": {
          "base_uri": "https://localhost:8080/",
          "height": 490
        },
        "id": "hZHJtV8qAjQ5",
        "outputId": "b10e0102-43e3-417f-ccb7-554d439cae1c"
      },
      "outputs": [
        {
          "output_type": "execute_result",
          "data": {
            "text/plain": [
              "<Axes: title={'center': 'Total Monthly Guests'}, xlabel='Month', ylabel='Number of Guests'>"
            ]
          },
          "metadata": {},
          "execution_count": 290
        },
        {
          "output_type": "display_data",
          "data": {
            "text/plain": [
              "<Figure size 640x480 with 1 Axes>"
            ],
            "image/png": "[encoded data removed]"
          },
          "metadata": {}
        }
      ],
      "source": [
        "monthly_guests.plot(kind='line', xlabel='Month', ylabel='Number of Guests', title='Total Monthly Guests')"
      ]
    },
    {
      "cell_type": "markdown",
      "metadata": {
        "id": "2oYICoBZBzXb"
      },
      "source": [
        "Here is the graph that we have created is showing the total guest for each month, having adults and children and babies are arriving.\n",
        "\n",
        "Time for the next graph (exact same procedure)!"
      ]
    },
    {
      "cell_type": "markdown",
      "metadata": {
        "id": "9qGeW3UOCq02"
      },
      "source": [
        "• A bar graph depicting the duration of guest stays"
      ]
    },
    {
      "cell_type": "code",
      "execution_count": 291,
      "metadata": {
        "id": "LLHYcVldC1QS"
      },
      "outputs": [],
      "source": [
        "completedata_df['stay_duration'] = completedata_df['stays_in_week_nights'] + completedata_df['stays_in_weekend_nights'];"
      ]
    },
    {
      "cell_type": "markdown",
      "metadata": {
        "id": "FBNKooxaKuFU"
      },
      "source": [
        "Here we are combining both stay_in week_nights, and stay_in_weekend nights column together and storing it in our newly created column stay_duration."
      ]
    },
    {
      "cell_type": "code",
      "execution_count": 292,
      "metadata": {
        "id": "yLDW09AVI9Kh"
      },
      "outputs": [],
      "source": [
        "guest_duration = completedata_df.groupby('stay_duration')['stay_duration'].mean()"
      ]
    },
    {
      "cell_type": "markdown",
      "metadata": {
        "id": "rDMBOQZQK-9J"
      },
      "source": [
        "This line of code, we are grouping stay_duration, and calculating the average, so we get the average time against stays. The mean will be stored in the stay_duration column."
      ]
    },
    {
      "cell_type": "code",
      "execution_count": 293,
      "metadata": {
        "id": "B2Cv-W6wI__h",
        "colab": {
          "base_uri": "https://localhost:8080/",
          "height": 493
        },
        "outputId": "8d2e4261-12df-4592-c3af-7201c570c762"
      },
      "outputs": [
        {
          "output_type": "execute_result",
          "data": {
            "text/plain": [
              "<Axes: title={'center': 'Total Duration of Guests Stays'}, xlabel='Duration', ylabel='Number of Guests'>"
            ]
          },
          "metadata": {},
          "execution_count": 293
        },
        {
          "output_type": "display_data",
          "data": {
            "text/plain": [
              "<Figure size 640x480 with 1 Axes>"
            ],
            "image/png": "[encoded data removed]"
          },
          "metadata": {}
        }
      ],
      "source": [
        "guest_duration.plot(kind='bar', xlabel='Duration', ylabel='Number of Guests', title='Total Duration of Guests Stays')"
      ]
    },
    {
      "cell_type": "markdown",
      "metadata": {
        "id": "KTnBTcQULIy6"
      },
      "source": [
        "Finally, we are now plotting the graph for the guest_duration."
      ]
    },
    {
      "cell_type": "code",
      "execution_count": 294,
      "metadata": {
        "id": "kWge8AI2JWZh",
        "colab": {
          "base_uri": "https://localhost:8080/"
        },
        "outputId": "580947bd-7b70-42f7-e2a2-b63b37d395fb"
      },
      "outputs": [
        {
          "output_type": "stream",
          "name": "stdout",
          "text": [
            "<class 'pandas.core.frame.DataFrame'>\n",
            "Int64Index: 118898 entries, 0 to 119389\n",
            "Data columns (total 23 columns):\n",
            " #   Column                          Non-Null Count   Dtype  \n",
            "---  ------                          --------------   -----  \n",
            " 0   hotel                           118898 non-null  object \n",
            " 1   is_canceled                     118898 non-null  int64  \n",
            " 2   lead_time                       118898 non-null  int64  \n",
            " 3   arrival_date_month              118898 non-null  object \n",
            " 4   stays_in_weekend_nights         118898 non-null  int64  \n",
            " 5   stays_in_week_nights            118898 non-null  int64  \n",
            " 6   adults                          118898 non-null  int64  \n",
            " 7   children                        118898 non-null  float64\n",
            " 8   babies                          118898 non-null  int64  \n",
            " 9   meal                            118898 non-null  object \n",
            " 10  country                         118898 non-null  object \n",
            " 11  market_segment                  118898 non-null  object \n",
            " 12  distribution_channel            118898 non-null  object \n",
            " 13  is_repeated_guest               118898 non-null  int64  \n",
            " 14  previous_cancellations          118898 non-null  int64  \n",
            " 15  previous_bookings_not_canceled  118898 non-null  int64  \n",
            " 16  reserved_room_type              118898 non-null  object \n",
            " 17  booking_changes                 118898 non-null  int64  \n",
            " 18  deposit_type                    118898 non-null  object \n",
            " 19  customer_type                   118898 non-null  object \n",
            " 20  required_car_parking_spaces     118898 non-null  int64  \n",
            " 21  total_of_special_requests       118898 non-null  int64  \n",
            " 22  stay_duration                   118898 non-null  int64  \n",
            "dtypes: float64(1), int64(13), object(9)\n",
            "memory usage: 21.8+ MB\n"
          ]
        }
      ],
      "source": [
        "completedata_df.info()"
      ]
    },
    {
      "cell_type": "markdown",
      "metadata": {
        "id": "ply2OVr_LN5J"
      },
      "source": [
        "I added this bit of code, just to see that the newly created column has been added to our data set.\n",
        "\n",
        "Time for the next bit!"
      ]
    },
    {
      "cell_type": "markdown",
      "metadata": {
        "id": "gDbFnUA5C1tp"
      },
      "source": [
        "• A pie chart indicating guests' geographical origins."
      ]
    },
    {
      "cell_type": "code",
      "execution_count": 295,
      "metadata": {
        "id": "I6lF-GbJrL-V"
      },
      "outputs": [],
      "source": [
        "geo_origins = completedata_df['country']"
      ]
    },
    {
      "cell_type": "code",
      "execution_count": 296,
      "metadata": {
        "id": "PaYrVwF_wgGu"
      },
      "outputs": [],
      "source": [
        "geo_origins = geo_origins.reset_index()"
      ]
    },
    {
      "cell_type": "markdown",
      "metadata": {
        "id": "3cVM5pVYrX_4"
      },
      "source": [
        "Here we are selecting the country column and storing all of its contents in geo_origins."
      ]
    },
    {
      "cell_type": "code",
      "execution_count": 297,
      "metadata": {
        "id": "GtID3lMMMt2a",
        "colab": {
          "base_uri": "https://localhost:8080/",
          "height": 675
        },
        "outputId": "6fa79d9e-566d-4284-b5ba-96e3cea2511d"
      },
      "outputs": [
        {
          "output_type": "display_data",
          "data": {
            "text/plain": [
              "<Figure size 1200x800 with 1 Axes>"
            ],
            "image/png": "[encoded data removed]"
          },
          "metadata": {}
        }
      ],
      "source": [
        "completedata_df['country'].value_counts().nlargest(10).plot(kind='pie', autopct='%.2f%%', title='Guests Geographical Origins', figsize=[12, 8]);"
      ]
    },
    {
      "cell_type": "markdown",
      "metadata": {
        "id": "UxCTfASWP86R"
      },
      "source": [
        "There is our pie chart, indicating guests origins."
      ]
    },
    {
      "cell_type": "markdown",
      "metadata": {
        "id": "0HxvmXvjQTF1"
      },
      "source": [
        "# 3. Feature Engineering (25%):"
      ]
    },
    {
      "cell_type": "markdown",
      "metadata": {
        "id": "KOtH50hJQP6j"
      },
      "source": [
        "•\tClearly explain any decisions to drop or convert features from one format to another."
      ]
    },
    {
      "cell_type": "code",
      "execution_count": 298,
      "metadata": {
        "id": "RYqK62NsQV2h",
        "colab": {
          "base_uri": "https://localhost:8080/"
        },
        "outputId": "826fa7fe-f832-43f3-959c-26830c976313"
      },
      "outputs": [
        {
          "output_type": "stream",
          "name": "stdout",
          "text": [
            "<class 'pandas.core.frame.DataFrame'>\n",
            "Int64Index: 118898 entries, 0 to 119389\n",
            "Data columns (total 23 columns):\n",
            " #   Column                          Non-Null Count   Dtype  \n",
            "---  ------                          --------------   -----  \n",
            " 0   hotel                           118898 non-null  object \n",
            " 1   is_canceled                     118898 non-null  int64  \n",
            " 2   lead_time                       118898 non-null  int64  \n",
            " 3   arrival_date_month              118898 non-null  object \n",
            " 4   stays_in_weekend_nights         118898 non-null  int64  \n",
            " 5   stays_in_week_nights            118898 non-null  int64  \n",
            " 6   adults                          118898 non-null  int64  \n",
            " 7   children                        118898 non-null  float64\n",
            " 8   babies                          118898 non-null  int64  \n",
            " 9   meal                            118898 non-null  object \n",
            " 10  country                         118898 non-null  object \n",
            " 11  market_segment                  118898 non-null  object \n",
            " 12  distribution_channel            118898 non-null  object \n",
            " 13  is_repeated_guest               118898 non-null  int64  \n",
            " 14  previous_cancellations          118898 non-null  int64  \n",
            " 15  previous_bookings_not_canceled  118898 non-null  int64  \n",
            " 16  reserved_room_type              118898 non-null  object \n",
            " 17  booking_changes                 118898 non-null  int64  \n",
            " 18  deposit_type                    118898 non-null  object \n",
            " 19  customer_type                   118898 non-null  object \n",
            " 20  required_car_parking_spaces     118898 non-null  int64  \n",
            " 21  total_of_special_requests       118898 non-null  int64  \n",
            " 22  stay_duration                   118898 non-null  int64  \n",
            "dtypes: float64(1), int64(13), object(9)\n",
            "memory usage: 21.8+ MB\n"
          ]
        }
      ],
      "source": [
        "completedata_df.info()"
      ]
    },
    {
      "cell_type": "markdown",
      "metadata": {
        "id": "hn6mumKCyaef"
      },
      "source": [
        "Let's just have a look at what columns we have again, and what data types are assigned to them."
      ]
    },
    {
      "cell_type": "code",
      "execution_count": 299,
      "metadata": {
        "id": "-BO6kWSgsykF",
        "colab": {
          "base_uri": "https://localhost:8080/"
        },
        "outputId": "70f1c439-cc8f-4fea-9f78-46693d3c42d4"
      },
      "outputs": [
        {
          "output_type": "execute_result",
          "data": {
            "text/plain": [
              "August       13852\n",
              "July         12628\n",
              "May          11779\n",
              "October      11095\n",
              "April        11045\n",
              "June         10927\n",
              "September    10467\n",
              "March         9739\n",
              "February      8012\n",
              "November      6752\n",
              "December      6728\n",
              "January       5874\n",
              "Name: arrival_date_month, dtype: int64"
            ]
          },
          "metadata": {},
          "execution_count": 299
        }
      ],
      "source": [
        "completedata_df['arrival_date_month'].value_counts()"
      ]
    },
    {
      "cell_type": "markdown",
      "metadata": {
        "id": "IXKXhjapykoB"
      },
      "source": [
        "So, in the arrival_date_month\n",
        "column, we have multiple rows representing every month of the year.\n",
        "\n",
        "We could, in fact use one hot encoding to break this down, and simplify the data subset."
      ]
    },
    {
      "cell_type": "code",
      "execution_count": 300,
      "metadata": {
        "id": "XhHND3c-s_57",
        "colab": {
          "base_uri": "https://localhost:8080/",
          "height": 342
        },
        "outputId": "11a3d476-d9a2-4893-d257-6e8e162fbce8"
      },
      "outputs": [
        {
          "output_type": "execute_result",
          "data": {
            "text/plain": [
              "          hotel  is_canceled  lead_time arrival_date_month  \\\n",
              "0  Resort Hotel            0        342               July   \n",
              "1  Resort Hotel            0        737               July   \n",
              "2  Resort Hotel            0          7               July   \n",
              "3  Resort Hotel            0         13               July   \n",
              "4  Resort Hotel            0         14               July   \n",
              "\n",
              "   stays_in_weekend_nights  stays_in_week_nights  adults  children  babies  \\\n",
              "0                        0                     0       2       0.0       0   \n",
              "1                        0                     0       2       0.0       0   \n",
              "2                        0                     1       1       0.0       0   \n",
              "3                        0                     1       1       0.0       0   \n",
              "4                        0                     2       2       0.0       0   \n",
              "\n",
              "  meal  ... is_repeated_guest previous_cancellations  \\\n",
              "0   BB  ...                 0                      0   \n",
              "1   BB  ...                 0                      0   \n",
              "2   BB  ...                 0                      0   \n",
              "3   BB  ...                 0                      0   \n",
              "4   BB  ...                 0                      0   \n",
              "\n",
              "  previous_bookings_not_canceled  reserved_room_type  booking_changes  \\\n",
              "0                              0                   C                3   \n",
              "1                              0                   C                4   \n",
              "2                              0                   A                0   \n",
              "3                              0                   A                0   \n",
              "4                              0                   A                0   \n",
              "\n",
              "   deposit_type customer_type  required_car_parking_spaces  \\\n",
              "0    No Deposit     Transient                            0   \n",
              "1    No Deposit     Transient                            0   \n",
              "2    No Deposit     Transient                            0   \n",
              "3    No Deposit     Transient                            0   \n",
              "4    No Deposit     Transient                            0   \n",
              "\n",
              "  total_of_special_requests stay_duration  \n",
              "0                         0             0  \n",
              "1                         0             0  \n",
              "2                         0             1  \n",
              "3                         0             1  \n",
              "4                         1             2  \n",
              "\n",
              "[5 rows x 23 columns]"
            ],
            "text/html": [
              "\n",
              "  <div id=\"df-e936bd54-bde5-4edd-b6fb-6420b965d489\" class=\"colab-df-container\">\n",
              "    <div>\n",
              "<style scoped>\n",
              "    .dataframe tbody tr th:only-of-type {\n",
              "        vertical-align: middle;\n",
              "    }\n",
              "\n",
              "    .dataframe tbody tr th {\n",
              "        vertical-align: top;\n",
              "    }\n",
              "\n",
              "    .dataframe thead th {\n",
              "        text-align: right;\n",
              "    }\n",
              "</style>\n",
              "<table border=\"1\" class=\"dataframe\">\n",
              "  <thead>\n",
              "    <tr style=\"text-align: right;\">\n",
              "      <th></th>\n",
              "      <th>hotel</th>\n",
              "      <th>is_canceled</th>\n",
              "      <th>lead_time</th>\n",
              "      <th>arrival_date_month</th>\n",
              "      <th>stays_in_weekend_nights</th>\n",
              "      <th>stays_in_week_nights</th>\n",
              "      <th>adults</th>\n",
              "      <th>children</th>\n",
              "      <th>babies</th>\n",
              "      <th>meal</th>\n",
              "      <th>...</th>\n",
              "      <th>is_repeated_guest</th>\n",
              "      <th>previous_cancellations</th>\n",
              "      <th>previous_bookings_not_canceled</th>\n",
              "      <th>reserved_room_type</th>\n",
              "      <th>booking_changes</th>\n",
              "      <th>deposit_type</th>\n",
              "      <th>customer_type</th>\n",
              "      <th>required_car_parking_spaces</th>\n",
              "      <th>total_of_special_requests</th>\n",
              "      <th>stay_duration</th>\n",
              "    </tr>\n",
              "  </thead>\n",
              "  <tbody>\n",
              "    <tr>\n",
              "      <th>0</th>\n",
              "      <td>Resort Hotel</td>\n",
              "      <td>0</td>\n",
              "      <td>342</td>\n",
              "      <td>July</td>\n",
              "      <td>0</td>\n",
              "      <td>0</td>\n",
              "      <td>2</td>\n",
              "      <td>0.0</td>\n",
              "      <td>0</td>\n",
              "      <td>BB</td>\n",
              "      <td>...</td>\n",
              "      <td>0</td>\n",
              "      <td>0</td>\n",
              "      <td>0</td>\n",
              "      <td>C</td>\n",
              "      <td>3</td>\n",
              "      <td>No Deposit</td>\n",
              "      <td>Transient</td>\n",
              "      <td>0</td>\n",
              "      <td>0</td>\n",
              "      <td>0</td>\n",
              "    </tr>\n",
              "    <tr>\n",
              "      <th>1</th>\n",
              "      <td>Resort Hotel</td>\n",
              "      <td>0</td>\n",
              "      <td>737</td>\n",
              "      <td>July</td>\n",
              "      <td>0</td>\n",
              "      <td>0</td>\n",
              "      <td>2</td>\n",
              "      <td>0.0</td>\n",
              "      <td>0</td>\n",
              "      <td>BB</td>\n",
              "      <td>...</td>\n",
              "      <td>0</td>\n",
              "      <td>0</td>\n",
              "      <td>0</td>\n",
              "      <td>C</td>\n",
              "      <td>4</td>\n",
              "      <td>No Deposit</td>\n",
              "      <td>Transient</td>\n",
              "      <td>0</td>\n",
              "      <td>0</td>\n",
              "      <td>0</td>\n",
              "    </tr>\n",
              "    <tr>\n",
              "      <th>2</th>\n",
              "      <td>Resort Hotel</td>\n",
              "      <td>0</td>\n",
              "      <td>7</td>\n",
              "      <td>July</td>\n",
              "      <td>0</td>\n",
              "      <td>1</td>\n",
              "      <td>1</td>\n",
              "      <td>0.0</td>\n",
              "      <td>0</td>\n",
              "      <td>BB</td>\n",
              "      <td>...</td>\n",
              "      <td>0</td>\n",
              "      <td>0</td>\n",
              "      <td>0</td>\n",
              "      <td>A</td>\n",
              "      <td>0</td>\n",
              "      <td>No Deposit</td>\n",
              "      <td>Transient</td>\n",
              "      <td>0</td>\n",
              "      <td>0</td>\n",
              "      <td>1</td>\n",
              "    </tr>\n",
              "    <tr>\n",
              "      <th>3</th>\n",
              "      <td>Resort Hotel</td>\n",
              "      <td>0</td>\n",
              "      <td>13</td>\n",
              "      <td>July</td>\n",
              "      <td>0</td>\n",
              "      <td>1</td>\n",
              "      <td>1</td>\n",
              "      <td>0.0</td>\n",
              "      <td>0</td>\n",
              "      <td>BB</td>\n",
              "      <td>...</td>\n",
              "      <td>0</td>\n",
              "      <td>0</td>\n",
              "      <td>0</td>\n",
              "      <td>A</td>\n",
              "      <td>0</td>\n",
              "      <td>No Deposit</td>\n",
              "      <td>Transient</td>\n",
              "      <td>0</td>\n",
              "      <td>0</td>\n",
              "      <td>1</td>\n",
              "    </tr>\n",
              "    <tr>\n",
              "      <th>4</th>\n",
              "      <td>Resort Hotel</td>\n",
              "      <td>0</td>\n",
              "      <td>14</td>\n",
              "      <td>July</td>\n",
              "      <td>0</td>\n",
              "      <td>2</td>\n",
              "      <td>2</td>\n",
              "      <td>0.0</td>\n",
              "      <td>0</td>\n",
              "      <td>BB</td>\n",
              "      <td>...</td>\n",
              "      <td>0</td>\n",
              "      <td>0</td>\n",
              "      <td>0</td>\n",
              "      <td>A</td>\n",
              "      <td>0</td>\n",
              "      <td>No Deposit</td>\n",
              "      <td>Transient</td>\n",
              "      <td>0</td>\n",
              "      <td>1</td>\n",
              "      <td>2</td>\n",
              "    </tr>\n",
              "  </tbody>\n",
              "</table>\n",
              "<p>5 rows × 23 columns</p>\n",
              "</div>\n",
              "    <div class=\"colab-df-buttons\">\n",
              "\n",
              "  <div class=\"colab-df-container\">\n",
              "    <button class=\"colab-df-convert\" onclick=\"convertToInteractive('df-e936bd54-bde5-4edd-b6fb-6420b965d489')\"\n",
              "            title=\"Convert this dataframe to an interactive table.\"\n",
              "            style=\"display:none;\">\n",
              "\n",
              "  <svg xmlns=\"http://www.w3.org/2000/svg\" height=\"24px\" viewBox=\"0 -960 960 960\">\n",
              "    <path d=\"M120-120v-720h720v720H120Zm60-500h600v-160H180v160Zm220 220h160v-160H400v160Zm0 220h160v-160H400v160ZM180-400h160v-160H180v160Zm440 0h160v-160H620v160ZM180-180h160v-160H180v160Zm440 0h160v-160H620v160Z\"/>\n",
              "  </svg>\n",
              "    </button>\n",
              "\n",
              "  <style>\n",
              "    .colab-df-container {\n",
              "      display:flex;\n",
              "      gap: 12px;\n",
              "    }\n",
              "\n",
              "    .colab-df-convert {\n",
              "      background-color: #E8F0FE;\n",
              "      border: none;\n",
              "      border-radius: 50%;\n",
              "      cursor: pointer;\n",
              "      display: none;\n",
              "      fill: #1967D2;\n",
              "      height: 32px;\n",
              "      padding: 0 0 0 0;\n",
              "      width: 32px;\n",
              "    }\n",
              "\n",
              "    .colab-df-convert:hover {\n",
              "      background-color: #E2EBFA;\n",
              "      box-shadow: 0px 1px 2px rgba(60, 64, 67, 0.3), 0px 1px 3px 1px rgba(60, 64, 67, 0.15);\n",
              "      fill: #174EA6;\n",
              "    }\n",
              "\n",
              "    .colab-df-buttons div {\n",
              "      margin-bottom: 4px;\n",
              "    }\n",
              "\n",
              "    [theme=dark] .colab-df-convert {\n",
              "      background-color: #3B4455;\n",
              "      fill: #D2E3FC;\n",
              "    }\n",
              "\n",
              "    [theme=dark] .colab-df-convert:hover {\n",
              "      background-color: #434B5C;\n",
              "      box-shadow: 0px 1px 3px 1px rgba(0, 0, 0, 0.15);\n",
              "      filter: drop-shadow(0px 1px 2px rgba(0, 0, 0, 0.3));\n",
              "      fill: #FFFFFF;\n",
              "    }\n",
              "  </style>\n",
              "\n",
              "    <script>\n",
              "      const buttonEl =\n",
              "        document.querySelector('#df-e936bd54-bde5-4edd-b6fb-6420b965d489 button.colab-df-convert');\n",
              "      buttonEl.style.display =\n",
              "        google.colab.kernel.accessAllowed ? 'block' : 'none';\n",
              "\n",
              "      async function convertToInteractive(key) {\n",
              "        const element = document.querySelector('#df-e936bd54-bde5-4edd-b6fb-6420b965d489');\n",
              "        const dataTable =\n",
              "          await google.colab.kernel.invokeFunction('convertToInteractive',\n",
              "                                                    [key], {});\n",
              "        if (!dataTable) return;\n",
              "\n",
              "        const docLinkHtml = 'Like what you see? Visit the ' +\n",
              "          '<a target=\"_blank\" href=https://colab.research.google.com/notebooks/data_table.ipynb>data table notebook</a>'\n",
              "          + ' to learn more about interactive tables.';\n",
              "        element.innerHTML = '';\n",
              "        dataTable['output_type'] = 'display_data';\n",
              "        await google.colab.output.renderOutput(dataTable, element);\n",
              "        const docLink = document.createElement('div');\n",
              "        docLink.innerHTML = docLinkHtml;\n",
              "        element.appendChild(docLink);\n",
              "      }\n",
              "    </script>\n",
              "  </div>\n",
              "\n",
              "\n",
              "<div id=\"df-e8321e3d-8df8-40e8-8de3-f6aa9d29af2b\">\n",
              "  <button class=\"colab-df-quickchart\" onclick=\"quickchart('df-e8321e3d-8df8-40e8-8de3-f6aa9d29af2b')\"\n",
              "            title=\"Suggest charts\"\n",
              "            style=\"display:none;\">\n",
              "\n",
              "<svg xmlns=\"http://www.w3.org/2000/svg\" height=\"24px\"viewBox=\"0 0 24 24\"\n",
              "     width=\"24px\">\n",
              "    <g>\n",
              "        <path d=\"M19 3H5c-1.1 0-2 .9-2 2v14c0 1.1.9 2 2 2h14c1.1 0 2-.9 2-2V5c0-1.1-.9-2-2-2zM9 17H7v-7h2v7zm4 0h-2V7h2v10zm4 0h-2v-4h2v4z\"/>\n",
              "    </g>\n",
              "</svg>\n",
              "  </button>\n",
              "\n",
              "<style>\n",
              "  .colab-df-quickchart {\n",
              "      --bg-color: #E8F0FE;\n",
              "      --fill-color: #1967D2;\n",
              "      --hover-bg-color: #E2EBFA;\n",
              "      --hover-fill-color: #174EA6;\n",
              "      --disabled-fill-color: #AAA;\n",
              "      --disabled-bg-color: #DDD;\n",
              "  }\n",
              "\n",
              "  [theme=dark] .colab-df-quickchart {\n",
              "      --bg-color: #3B4455;\n",
              "      --fill-color: #D2E3FC;\n",
              "      --hover-bg-color: #434B5C;\n",
              "      --hover-fill-color: #FFFFFF;\n",
              "      --disabled-bg-color: #3B4455;\n",
              "      --disabled-fill-color: #666;\n",
              "  }\n",
              "\n",
              "  .colab-df-quickchart {\n",
              "    background-color: var(--bg-color);\n",
              "    border: none;\n",
              "    border-radius: 50%;\n",
              "    cursor: pointer;\n",
              "    display: none;\n",
              "    fill: var(--fill-color);\n",
              "    height: 32px;\n",
              "    padding: 0;\n",
              "    width: 32px;\n",
              "  }\n",
              "\n",
              "  .colab-df-quickchart:hover {\n",
              "    background-color: var(--hover-bg-color);\n",
              "    box-shadow: 0 1px 2px rgba(60, 64, 67, 0.3), 0 1px 3px 1px rgba(60, 64, 67, 0.15);\n",
              "    fill: var(--button-hover-fill-color);\n",
              "  }\n",
              "\n",
              "  .colab-df-quickchart-complete:disabled,\n",
              "  .colab-df-quickchart-complete:disabled:hover {\n",
              "    background-color: var(--disabled-bg-color);\n",
              "    fill: var(--disabled-fill-color);\n",
              "    box-shadow: none;\n",
              "  }\n",
              "\n",
              "  .colab-df-spinner {\n",
              "    border: 2px solid var(--fill-color);\n",
              "    border-color: transparent;\n",
              "    border-bottom-color: var(--fill-color);\n",
              "    animation:\n",
              "      spin 1s steps(1) infinite;\n",
              "  }\n",
              "\n",
              "  @keyframes spin {\n",
              "    0% {\n",
              "      border-color: transparent;\n",
              "      border-bottom-color: var(--fill-color);\n",
              "      border-left-color: var(--fill-color);\n",
              "    }\n",
              "    20% {\n",
              "      border-color: transparent;\n",
              "      border-left-color: var(--fill-color);\n",
              "      border-top-color: var(--fill-color);\n",
              "    }\n",
              "    30% {\n",
              "      border-color: transparent;\n",
              "      border-left-color: var(--fill-color);\n",
              "      border-top-color: var(--fill-color);\n",
              "      border-right-color: var(--fill-color);\n",
              "    }\n",
              "    40% {\n",
              "      border-color: transparent;\n",
              "      border-right-color: var(--fill-color);\n",
              "      border-top-color: var(--fill-color);\n",
              "    }\n",
              "    60% {\n",
              "      border-color: transparent;\n",
              "      border-right-color: var(--fill-color);\n",
              "    }\n",
              "    80% {\n",
              "      border-color: transparent;\n",
              "      border-right-color: var(--fill-color);\n",
              "      border-bottom-color: var(--fill-color);\n",
              "    }\n",
              "    90% {\n",
              "      border-color: transparent;\n",
              "      border-bottom-color: var(--fill-color);\n",
              "    }\n",
              "  }\n",
              "</style>\n",
              "\n",
              "  <script>\n",
              "    async function quickchart(key) {\n",
              "      const quickchartButtonEl =\n",
              "        document.querySelector('#' + key + ' button');\n",
              "      quickchartButtonEl.disabled = true;  // To prevent multiple clicks.\n",
              "      quickchartButtonEl.classList.add('colab-df-spinner');\n",
              "      try {\n",
              "        const charts = await google.colab.kernel.invokeFunction(\n",
              "            'suggestCharts', [key], {});\n",
              "      } catch (error) {\n",
              "        console.error('Error during call to suggestCharts:', error);\n",
              "      }\n",
              "      quickchartButtonEl.classList.remove('colab-df-spinner');\n",
              "      quickchartButtonEl.classList.add('colab-df-quickchart-complete');\n",
              "    }\n",
              "    (() => {\n",
              "      let quickchartButtonEl =\n",
              "        document.querySelector('#df-e8321e3d-8df8-40e8-8de3-f6aa9d29af2b button');\n",
              "      quickchartButtonEl.style.display =\n",
              "        google.colab.kernel.accessAllowed ? 'block' : 'none';\n",
              "    })();\n",
              "  </script>\n",
              "</div>\n",
              "    </div>\n",
              "  </div>\n"
            ]
          },
          "metadata": {},
          "execution_count": 300
        }
      ],
      "source": [
        "completedata_df.head()"
      ]
    },
    {
      "cell_type": "markdown",
      "metadata": {
        "id": "_hcFNFg7y-qx"
      },
      "source": [
        "This is the before we apply one hot encoding to the column."
      ]
    },
    {
      "cell_type": "code",
      "execution_count": 301,
      "metadata": {
        "id": "2P4_4gJfzFg0"
      },
      "outputs": [],
      "source": [
        "month_dummies = pd.get_dummies(completedata_df['arrival_date_month'])"
      ]
    },
    {
      "cell_type": "markdown",
      "metadata": {
        "id": "tqWJ4KFbDdJF"
      },
      "source": [
        "Here we are using the get_dummies built-in function from the pandas library which is used to one hot encode the category, and then we are retrieving the column that we want to encode from the data frame."
      ]
    },
    {
      "cell_type": "code",
      "execution_count": 302,
      "metadata": {
        "id": "UcV7AxNjDKwI"
      },
      "outputs": [],
      "source": [
        "completedata_df = completedata_df.drop('arrival_date_month', axis=1)"
      ]
    },
    {
      "cell_type": "markdown",
      "metadata": {
        "id": "sUq_xPpGDuy1"
      },
      "source": [
        "Now that we have applied one hot encoding to our category, which now means the rows within the category are now their own columns. Now we need to drop arrival_dates."
      ]
    },
    {
      "cell_type": "code",
      "execution_count": 303,
      "metadata": {
        "id": "l0BXNtfBDL92"
      },
      "outputs": [],
      "source": [
        "completedata_df = completedata_df.join(month_dummies)"
      ]
    },
    {
      "cell_type": "markdown",
      "metadata": {
        "id": "YQF7_NEFD802"
      },
      "source": [
        "Let's join our new columns back to our original base frame.\n",
        "\n",
        "Let's now apply this process to the other categorical features."
      ]
    },
    {
      "cell_type": "code",
      "execution_count": 304,
      "metadata": {
        "id": "HBVjY4IjFxvJ"
      },
      "outputs": [],
      "source": [
        "custype_dummies = pd.get_dummies(completedata_df['customer_type'])\n",
        "completedata_df = completedata_df.drop('customer_type', axis=1)\n",
        "completedata_df = completedata_df.join(custype_dummies)"
      ]
    },
    {
      "cell_type": "code",
      "execution_count": 305,
      "metadata": {
        "id": "yz3xRwb0J5d9"
      },
      "outputs": [],
      "source": [
        "hotel_dummies = pd.get_dummies(completedata_df['hotel'])\n",
        "completedata_df = completedata_df.drop('hotel', axis=1)\n",
        "completedata_df = completedata_df.join(hotel_dummies)"
      ]
    },
    {
      "cell_type": "code",
      "execution_count": 306,
      "metadata": {
        "id": "Xe53ax8yKCrj"
      },
      "outputs": [],
      "source": [
        "meal_dummies = pd.get_dummies(completedata_df['meal'])\n",
        "completedata_df = completedata_df.drop('meal', axis=1)\n",
        "completedata_df = completedata_df.join(meal_dummies)"
      ]
    },
    {
      "cell_type": "code",
      "execution_count": 307,
      "metadata": {
        "id": "15wC1pn4KbiZ"
      },
      "outputs": [],
      "source": [
        "country_dummies = pd.get_dummies(completedata_df['country'])\n",
        "completedata_df = completedata_df.drop('country', axis=1)\n",
        "completedata_df = completedata_df.join(country_dummies)"
      ]
    },
    {
      "cell_type": "code",
      "execution_count": 308,
      "metadata": {
        "id": "IOKyjcAeCVnD"
      },
      "outputs": [],
      "source": [
        "marketseg_dummies = pd.get_dummies(completedata_df['market_segment'])\n",
        "completedata_df = completedata_df.drop('market_segment', axis=1)\n",
        "completedata_df = completedata_df.join(marketseg_dummies)"
      ]
    },
    {
      "cell_type": "code",
      "execution_count": 309,
      "metadata": {
        "id": "asfLi8XSzMHX",
        "colab": {
          "base_uri": "https://localhost:8080/",
          "height": 273
        },
        "outputId": "568bdf74-bd36-4f2f-8c46-58b8d30e5091"
      },
      "outputs": [
        {
          "output_type": "execute_result",
          "data": {
            "text/plain": [
              "   is_canceled  lead_time  stays_in_weekend_nights  stays_in_week_nights  \\\n",
              "0            0        342                        0                     0   \n",
              "1            0        737                        0                     0   \n",
              "2            0          7                        0                     1   \n",
              "3            0         13                        0                     1   \n",
              "4            0         14                        0                     2   \n",
              "\n",
              "   adults  children  babies distribution_channel  is_repeated_guest  \\\n",
              "0       2       0.0       0               Direct                  0   \n",
              "1       2       0.0       0               Direct                  0   \n",
              "2       1       0.0       0               Direct                  0   \n",
              "3       1       0.0       0            Corporate                  0   \n",
              "4       2       0.0       0                TA/TO                  0   \n",
              "\n",
              "   previous_cancellations  ...  ZAF ZMB  ZWE Aviation  Complementary  \\\n",
              "0                       0  ...    0   0    0        0              0   \n",
              "1                       0  ...    0   0    0        0              0   \n",
              "2                       0  ...    0   0    0        0              0   \n",
              "3                       0  ...    0   0    0        0              0   \n",
              "4                       0  ...    0   0    0        0              0   \n",
              "\n",
              "   Corporate  Direct  Groups  Offline TA/TO  Online TA  \n",
              "0          0       1       0              0          0  \n",
              "1          0       1       0              0          0  \n",
              "2          0       1       0              0          0  \n",
              "3          1       0       0              0          0  \n",
              "4          0       0       0              0          1  \n",
              "\n",
              "[5 rows x 224 columns]"
            ],
            "text/html": [
              "\n",
              "  <div id=\"df-bcacf0fc-5a76-415f-8c64-a50b69ae7a4c\" class=\"colab-df-container\">\n",
              "    <div>\n",
              "<style scoped>\n",
              "    .dataframe tbody tr th:only-of-type {\n",
              "        vertical-align: middle;\n",
              "    }\n",
              "\n",
              "    .dataframe tbody tr th {\n",
              "        vertical-align: top;\n",
              "    }\n",
              "\n",
              "    .dataframe thead th {\n",
              "        text-align: right;\n",
              "    }\n",
              "</style>\n",
              "<table border=\"1\" class=\"dataframe\">\n",
              "  <thead>\n",
              "    <tr style=\"text-align: right;\">\n",
              "      <th></th>\n",
              "      <th>is_canceled</th>\n",
              "      <th>lead_time</th>\n",
              "      <th>stays_in_weekend_nights</th>\n",
              "      <th>stays_in_week_nights</th>\n",
              "      <th>adults</th>\n",
              "      <th>children</th>\n",
              "      <th>babies</th>\n",
              "      <th>distribution_channel</th>\n",
              "      <th>is_repeated_guest</th>\n",
              "      <th>previous_cancellations</th>\n",
              "      <th>...</th>\n",
              "      <th>ZAF</th>\n",
              "      <th>ZMB</th>\n",
              "      <th>ZWE</th>\n",
              "      <th>Aviation</th>\n",
              "      <th>Complementary</th>\n",
              "      <th>Corporate</th>\n",
              "      <th>Direct</th>\n",
              "      <th>Groups</th>\n",
              "      <th>Offline TA/TO</th>\n",
              "      <th>Online TA</th>\n",
              "    </tr>\n",
              "  </thead>\n",
              "  <tbody>\n",
              "    <tr>\n",
              "      <th>0</th>\n",
              "      <td>0</td>\n",
              "      <td>342</td>\n",
              "      <td>0</td>\n",
              "      <td>0</td>\n",
              "      <td>2</td>\n",
              "      <td>0.0</td>\n",
              "      <td>0</td>\n",
              "      <td>Direct</td>\n",
              "      <td>0</td>\n",
              "      <td>0</td>\n",
              "      <td>...</td>\n",
              "      <td>0</td>\n",
              "      <td>0</td>\n",
              "      <td>0</td>\n",
              "      <td>0</td>\n",
              "      <td>0</td>\n",
              "      <td>0</td>\n",
              "      <td>1</td>\n",
              "      <td>0</td>\n",
              "      <td>0</td>\n",
              "      <td>0</td>\n",
              "    </tr>\n",
              "    <tr>\n",
              "      <th>1</th>\n",
              "      <td>0</td>\n",
              "      <td>737</td>\n",
              "      <td>0</td>\n",
              "      <td>0</td>\n",
              "      <td>2</td>\n",
              "      <td>0.0</td>\n",
              "      <td>0</td>\n",
              "      <td>Direct</td>\n",
              "      <td>0</td>\n",
              "      <td>0</td>\n",
              "      <td>...</td>\n",
              "      <td>0</td>\n",
              "      <td>0</td>\n",
              "      <td>0</td>\n",
              "      <td>0</td>\n",
              "      <td>0</td>\n",
              "      <td>0</td>\n",
              "      <td>1</td>\n",
              "      <td>0</td>\n",
              "      <td>0</td>\n",
              "      <td>0</td>\n",
              "    </tr>\n",
              "    <tr>\n",
              "      <th>2</th>\n",
              "      <td>0</td>\n",
              "      <td>7</td>\n",
              "      <td>0</td>\n",
              "      <td>1</td>\n",
              "      <td>1</td>\n",
              "      <td>0.0</td>\n",
              "      <td>0</td>\n",
              "      <td>Direct</td>\n",
              "      <td>0</td>\n",
              "      <td>0</td>\n",
              "      <td>...</td>\n",
              "      <td>0</td>\n",
              "      <td>0</td>\n",
              "      <td>0</td>\n",
              "      <td>0</td>\n",
              "      <td>0</td>\n",
              "      <td>0</td>\n",
              "      <td>1</td>\n",
              "      <td>0</td>\n",
              "      <td>0</td>\n",
              "      <td>0</td>\n",
              "    </tr>\n",
              "    <tr>\n",
              "      <th>3</th>\n",
              "      <td>0</td>\n",
              "      <td>13</td>\n",
              "      <td>0</td>\n",
              "      <td>1</td>\n",
              "      <td>1</td>\n",
              "      <td>0.0</td>\n",
              "      <td>0</td>\n",
              "      <td>Corporate</td>\n",
              "      <td>0</td>\n",
              "      <td>0</td>\n",
              "      <td>...</td>\n",
              "      <td>0</td>\n",
              "      <td>0</td>\n",
              "      <td>0</td>\n",
              "      <td>0</td>\n",
              "      <td>0</td>\n",
              "      <td>1</td>\n",
              "      <td>0</td>\n",
              "      <td>0</td>\n",
              "      <td>0</td>\n",
              "      <td>0</td>\n",
              "    </tr>\n",
              "    <tr>\n",
              "      <th>4</th>\n",
              "      <td>0</td>\n",
              "      <td>14</td>\n",
              "      <td>0</td>\n",
              "      <td>2</td>\n",
              "      <td>2</td>\n",
              "      <td>0.0</td>\n",
              "      <td>0</td>\n",
              "      <td>TA/TO</td>\n",
              "      <td>0</td>\n",
              "      <td>0</td>\n",
              "      <td>...</td>\n",
              "      <td>0</td>\n",
              "      <td>0</td>\n",
              "      <td>0</td>\n",
              "      <td>0</td>\n",
              "      <td>0</td>\n",
              "      <td>0</td>\n",
              "      <td>0</td>\n",
              "      <td>0</td>\n",
              "      <td>0</td>\n",
              "      <td>1</td>\n",
              "    </tr>\n",
              "  </tbody>\n",
              "</table>\n",
              "<p>5 rows × 224 columns</p>\n",
              "</div>\n",
              "    <div class=\"colab-df-buttons\">\n",
              "\n",
              "  <div class=\"colab-df-container\">\n",
              "    <button class=\"colab-df-convert\" onclick=\"convertToInteractive('df-bcacf0fc-5a76-415f-8c64-a50b69ae7a4c')\"\n",
              "            title=\"Convert this dataframe to an interactive table.\"\n",
              "            style=\"display:none;\">\n",
              "\n",
              "  <svg xmlns=\"http://www.w3.org/2000/svg\" height=\"24px\" viewBox=\"0 -960 960 960\">\n",
              "    <path d=\"M120-120v-720h720v720H120Zm60-500h600v-160H180v160Zm220 220h160v-160H400v160Zm0 220h160v-160H400v160ZM180-400h160v-160H180v160Zm440 0h160v-160H620v160ZM180-180h160v-160H180v160Zm440 0h160v-160H620v160Z\"/>\n",
              "  </svg>\n",
              "    </button>\n",
              "\n",
              "  <style>\n",
              "    .colab-df-container {\n",
              "      display:flex;\n",
              "      gap: 12px;\n",
              "    }\n",
              "\n",
              "    .colab-df-convert {\n",
              "      background-color: #E8F0FE;\n",
              "      border: none;\n",
              "      border-radius: 50%;\n",
              "      cursor: pointer;\n",
              "      display: none;\n",
              "      fill: #1967D2;\n",
              "      height: 32px;\n",
              "      padding: 0 0 0 0;\n",
              "      width: 32px;\n",
              "    }\n",
              "\n",
              "    .colab-df-convert:hover {\n",
              "      background-color: #E2EBFA;\n",
              "      box-shadow: 0px 1px 2px rgba(60, 64, 67, 0.3), 0px 1px 3px 1px rgba(60, 64, 67, 0.15);\n",
              "      fill: #174EA6;\n",
              "    }\n",
              "\n",
              "    .colab-df-buttons div {\n",
              "      margin-bottom: 4px;\n",
              "    }\n",
              "\n",
              "    [theme=dark] .colab-df-convert {\n",
              "      background-color: #3B4455;\n",
              "      fill: #D2E3FC;\n",
              "    }\n",
              "\n",
              "    [theme=dark] .colab-df-convert:hover {\n",
              "      background-color: #434B5C;\n",
              "      box-shadow: 0px 1px 3px 1px rgba(0, 0, 0, 0.15);\n",
              "      filter: drop-shadow(0px 1px 2px rgba(0, 0, 0, 0.3));\n",
              "      fill: #FFFFFF;\n",
              "    }\n",
              "  </style>\n",
              "\n",
              "    <script>\n",
              "      const buttonEl =\n",
              "        document.querySelector('#df-bcacf0fc-5a76-415f-8c64-a50b69ae7a4c button.colab-df-convert');\n",
              "      buttonEl.style.display =\n",
              "        google.colab.kernel.accessAllowed ? 'block' : 'none';\n",
              "\n",
              "      async function convertToInteractive(key) {\n",
              "        const element = document.querySelector('#df-bcacf0fc-5a76-415f-8c64-a50b69ae7a4c');\n",
              "        const dataTable =\n",
              "          await google.colab.kernel.invokeFunction('convertToInteractive',\n",
              "                                                    [key], {});\n",
              "        if (!dataTable) return;\n",
              "\n",
              "        const docLinkHtml = 'Like what you see? Visit the ' +\n",
              "          '<a target=\"_blank\" href=https://colab.research.google.com/notebooks/data_table.ipynb>data table notebook</a>'\n",
              "          + ' to learn more about interactive tables.';\n",
              "        element.innerHTML = '';\n",
              "        dataTable['output_type'] = 'display_data';\n",
              "        await google.colab.output.renderOutput(dataTable, element);\n",
              "        const docLink = document.createElement('div');\n",
              "        docLink.innerHTML = docLinkHtml;\n",
              "        element.appendChild(docLink);\n",
              "      }\n",
              "    </script>\n",
              "  </div>\n",
              "\n",
              "\n",
              "<div id=\"df-06c1f354-3ec4-4404-828b-9d46a7788629\">\n",
              "  <button class=\"colab-df-quickchart\" onclick=\"quickchart('df-06c1f354-3ec4-4404-828b-9d46a7788629')\"\n",
              "            title=\"Suggest charts\"\n",
              "            style=\"display:none;\">\n",
              "\n",
              "<svg xmlns=\"http://www.w3.org/2000/svg\" height=\"24px\"viewBox=\"0 0 24 24\"\n",
              "     width=\"24px\">\n",
              "    <g>\n",
              "        <path d=\"M19 3H5c-1.1 0-2 .9-2 2v14c0 1.1.9 2 2 2h14c1.1 0 2-.9 2-2V5c0-1.1-.9-2-2-2zM9 17H7v-7h2v7zm4 0h-2V7h2v10zm4 0h-2v-4h2v4z\"/>\n",
              "    </g>\n",
              "</svg>\n",
              "  </button>\n",
              "\n",
              "<style>\n",
              "  .colab-df-quickchart {\n",
              "      --bg-color: #E8F0FE;\n",
              "      --fill-color: #1967D2;\n",
              "      --hover-bg-color: #E2EBFA;\n",
              "      --hover-fill-color: #174EA6;\n",
              "      --disabled-fill-color: #AAA;\n",
              "      --disabled-bg-color: #DDD;\n",
              "  }\n",
              "\n",
              "  [theme=dark] .colab-df-quickchart {\n",
              "      --bg-color: #3B4455;\n",
              "      --fill-color: #D2E3FC;\n",
              "      --hover-bg-color: #434B5C;\n",
              "      --hover-fill-color: #FFFFFF;\n",
              "      --disabled-bg-color: #3B4455;\n",
              "      --disabled-fill-color: #666;\n",
              "  }\n",
              "\n",
              "  .colab-df-quickchart {\n",
              "    background-color: var(--bg-color);\n",
              "    border: none;\n",
              "    border-radius: 50%;\n",
              "    cursor: pointer;\n",
              "    display: none;\n",
              "    fill: var(--fill-color);\n",
              "    height: 32px;\n",
              "    padding: 0;\n",
              "    width: 32px;\n",
              "  }\n",
              "\n",
              "  .colab-df-quickchart:hover {\n",
              "    background-color: var(--hover-bg-color);\n",
              "    box-shadow: 0 1px 2px rgba(60, 64, 67, 0.3), 0 1px 3px 1px rgba(60, 64, 67, 0.15);\n",
              "    fill: var(--button-hover-fill-color);\n",
              "  }\n",
              "\n",
              "  .colab-df-quickchart-complete:disabled,\n",
              "  .colab-df-quickchart-complete:disabled:hover {\n",
              "    background-color: var(--disabled-bg-color);\n",
              "    fill: var(--disabled-fill-color);\n",
              "    box-shadow: none;\n",
              "  }\n",
              "\n",
              "  .colab-df-spinner {\n",
              "    border: 2px solid var(--fill-color);\n",
              "    border-color: transparent;\n",
              "    border-bottom-color: var(--fill-color);\n",
              "    animation:\n",
              "      spin 1s steps(1) infinite;\n",
              "  }\n",
              "\n",
              "  @keyframes spin {\n",
              "    0% {\n",
              "      border-color: transparent;\n",
              "      border-bottom-color: var(--fill-color);\n",
              "      border-left-color: var(--fill-color);\n",
              "    }\n",
              "    20% {\n",
              "      border-color: transparent;\n",
              "      border-left-color: var(--fill-color);\n",
              "      border-top-color: var(--fill-color);\n",
              "    }\n",
              "    30% {\n",
              "      border-color: transparent;\n",
              "      border-left-color: var(--fill-color);\n",
              "      border-top-color: var(--fill-color);\n",
              "      border-right-color: var(--fill-color);\n",
              "    }\n",
              "    40% {\n",
              "      border-color: transparent;\n",
              "      border-right-color: var(--fill-color);\n",
              "      border-top-color: var(--fill-color);\n",
              "    }\n",
              "    60% {\n",
              "      border-color: transparent;\n",
              "      border-right-color: var(--fill-color);\n",
              "    }\n",
              "    80% {\n",
              "      border-color: transparent;\n",
              "      border-right-color: var(--fill-color);\n",
              "      border-bottom-color: var(--fill-color);\n",
              "    }\n",
              "    90% {\n",
              "      border-color: transparent;\n",
              "      border-bottom-color: var(--fill-color);\n",
              "    }\n",
              "  }\n",
              "</style>\n",
              "\n",
              "  <script>\n",
              "    async function quickchart(key) {\n",
              "      const quickchartButtonEl =\n",
              "        document.querySelector('#' + key + ' button');\n",
              "      quickchartButtonEl.disabled = true;  // To prevent multiple clicks.\n",
              "      quickchartButtonEl.classList.add('colab-df-spinner');\n",
              "      try {\n",
              "        const charts = await google.colab.kernel.invokeFunction(\n",
              "            'suggestCharts', [key], {});\n",
              "      } catch (error) {\n",
              "        console.error('Error during call to suggestCharts:', error);\n",
              "      }\n",
              "      quickchartButtonEl.classList.remove('colab-df-spinner');\n",
              "      quickchartButtonEl.classList.add('colab-df-quickchart-complete');\n",
              "    }\n",
              "    (() => {\n",
              "      let quickchartButtonEl =\n",
              "        document.querySelector('#df-06c1f354-3ec4-4404-828b-9d46a7788629 button');\n",
              "      quickchartButtonEl.style.display =\n",
              "        google.colab.kernel.accessAllowed ? 'block' : 'none';\n",
              "    })();\n",
              "  </script>\n",
              "</div>\n",
              "    </div>\n",
              "  </div>\n"
            ]
          },
          "metadata": {},
          "execution_count": 309
        }
      ],
      "source": [
        "completedata_df.head()"
      ]
    },
    {
      "cell_type": "markdown",
      "metadata": {
        "id": "zaORNaIkzbUp"
      },
      "source": [
        "As shown, the ordinal feature has been broken down, and now our data looks cleaner."
      ]
    },
    {
      "cell_type": "markdown",
      "metadata": {
        "id": "vWiadj0yQHKj"
      },
      "source": [
        "\n",
        "•\tConsider binning as a method to simplify certain features and reduce variability."
      ]
    },
    {
      "cell_type": "code",
      "execution_count": 310,
      "metadata": {
        "id": "LDdZMlbJPS0t"
      },
      "outputs": [],
      "source": [
        "bins = [0, 10, 20, 30, 40, 50]"
      ]
    },
    {
      "cell_type": "markdown",
      "metadata": {
        "id": "Zrgt-qMzRFhX"
      },
      "source": [
        "First, we need to create our bins which here we are creating 5 bins."
      ]
    },
    {
      "cell_type": "code",
      "execution_count": 311,
      "metadata": {
        "id": "-iRKEdRcQ6_0"
      },
      "outputs": [],
      "source": [
        "bin_labels = ['0 - 10', '10 - 20', '20 - 30', '30 - 40', '40 - 50']"
      ]
    },
    {
      "cell_type": "markdown",
      "metadata": {
        "id": "oIdSDTpkRisq"
      },
      "source": [
        "Now we need to give our 5 bins we ahve just created a label."
      ]
    },
    {
      "cell_type": "code",
      "execution_count": 312,
      "metadata": {
        "id": "7Kqg2rlzQ81e"
      },
      "outputs": [],
      "source": [
        "completedata_df['lead_time_bucket'] = pd.cut(completedata_df['lead_time'], bins=bins, labels=bin_labels)"
      ]
    },
    {
      "cell_type": "markdown",
      "metadata": {
        "id": "aScMVdQGR6XW"
      },
      "source": [
        "Here we are creating a new column in our set called lead_time_bucket, and we are now putting its values into the bins that we have just created by using the cut method."
      ]
    },
    {
      "cell_type": "code",
      "execution_count": 313,
      "metadata": {
        "id": "_LvtpMCMRAqS",
        "colab": {
          "base_uri": "https://localhost:8080/"
        },
        "outputId": "acac8038-3e51-46da-cf26-01e9bb8834ca"
      },
      "outputs": [
        {
          "output_type": "stream",
          "name": "stdout",
          "text": [
            "0 - 10     16283\n",
            "10 - 20     8964\n",
            "20 - 30     6843\n",
            "30 - 40     6799\n",
            "40 - 50     5290\n",
            "Name: lead_time_bucket, dtype: int64\n"
          ]
        }
      ],
      "source": [
        "print(completedata_df['lead_time_bucket'].value_counts())"
      ]
    },
    {
      "cell_type": "markdown",
      "metadata": {
        "id": "vizmJxeMSLbx"
      },
      "source": [
        "Now we get the unique rows from the newly created lead_time_bucket column to see if the values from lead_time have been been successfully."
      ]
    },
    {
      "cell_type": "markdown",
      "metadata": {
        "id": "ybV2DuRf32aH"
      },
      "source": [
        "# 4. Classifier Training (20%)"
      ]
    },
    {
      "cell_type": "code",
      "execution_count": 314,
      "metadata": {
        "id": "tKHhKDV8dNh5",
        "colab": {
          "base_uri": "https://localhost:8080/"
        },
        "outputId": "834e1443-9345-42cb-d5dd-05105ddc79b2"
      },
      "outputs": [
        {
          "output_type": "stream",
          "name": "stdout",
          "text": [
            "<class 'pandas.core.frame.DataFrame'>\n",
            "Int64Index: 118898 entries, 0 to 119389\n",
            "Columns: 225 entries, is_canceled to lead_time_bucket\n",
            "dtypes: category(1), float64(1), int64(13), object(3), uint8(207)\n",
            "memory usage: 43.9+ MB\n"
          ]
        }
      ],
      "source": [
        "completedata_df.info()"
      ]
    },
    {
      "cell_type": "code",
      "execution_count": 315,
      "metadata": {
        "id": "5OWGsiMK36GM"
      },
      "outputs": [],
      "source": [
        "from sklearn.model_selection import train_test_split\n",
        "from sklearn.tree import DecisionTreeClassifier\n",
        "from sklearn.metrics import accuracy_score, classification_report\n",
        "from sklearn.preprocessing import StandardScaler, Normalizer"
      ]
    },
    {
      "cell_type": "markdown",
      "metadata": {
        "id": "_-aoMUPScWKr"
      },
      "source": [
        "Here we are importing the libraries necessary to build and train our model."
      ]
    },
    {
      "cell_type": "code",
      "execution_count": 316,
      "metadata": {
        "id": "OfFj_wXyhlUc"
      },
      "outputs": [],
      "source": [
        "X = completedata_df[['lead_time', 'stays_in_weekend_nights', 'stays_in_week_nights', 'adults', 'children', 'babies', 'previous_cancellations', 'previous_bookings_not_canceled', 'required_car_parking_spaces', 'total_of_special_requests', 'booking_changes', 'stay_duration', 'is_repeated_guest']]"
      ]
    },
    {
      "cell_type": "markdown",
      "metadata": {
        "id": "0U9THmCQsn9n"
      },
      "source": [
        "These are the features that we will be training our model on."
      ]
    },
    {
      "cell_type": "code",
      "execution_count": 317,
      "metadata": {
        "id": "B6HKNveXsfv2"
      },
      "outputs": [],
      "source": [
        "y = completedata_df['is_canceled']"
      ]
    },
    {
      "cell_type": "markdown",
      "metadata": {
        "id": "FT5gXbIIckEQ"
      },
      "source": [
        "This is our target feature, so what we are trying to predict."
      ]
    },
    {
      "cell_type": "code",
      "execution_count": 318,
      "metadata": {
        "id": "poJDG3z2hoLO"
      },
      "outputs": [],
      "source": [
        "X_train_predict, X_test_predict, y_train_target, y_test_target = train_test_split(X, y, test_size=0.3, stratify=y, random_state=1)"
      ]
    },
    {
      "cell_type": "markdown",
      "metadata": {
        "id": "MKSU16pAeSVO"
      },
      "source": [
        "Here is when we actually split our data into test data and training data. In this case, 30% of our data will be used for testing and the remaining 70% will be data which we will use to train our model on. The reason why we have set our random states to 1 is to ensure that every time the data splits, it all splits equally, which essentially makes training easier for our model."
      ]
    },
    {
      "cell_type": "code",
      "execution_count": 319,
      "metadata": {
        "id": "ve1fA_KghqHr"
      },
      "outputs": [],
      "source": [
        "decision_tree = DecisionTreeClassifier(criterion='entropy', random_state=1)"
      ]
    },
    {
      "cell_type": "markdown",
      "metadata": {
        "id": "YwIiU6hyMatD"
      },
      "source": [
        "We need to now create our decision tree."
      ]
    },
    {
      "cell_type": "code",
      "execution_count": 320,
      "metadata": {
        "id": "8f4cgOa0MAUq",
        "colab": {
          "base_uri": "https://localhost:8080/",
          "height": 75
        },
        "outputId": "3a1dc158-cd6c-4246-f723-26235ee5ccd7"
      },
      "outputs": [
        {
          "output_type": "execute_result",
          "data": {
            "text/plain": [
              "DecisionTreeClassifier(criterion='entropy', random_state=1)"
            ],
            "text/html": [
              "<style>#sk-container-id-4 {color: black;background-color: white;}#sk-container-id-4 pre{padding: 0;}#sk-container-id-4 div.sk-toggleable {background-color: white;}#sk-container-id-4 label.sk-toggleable__label {cursor: pointer;display: block;width: 100%;margin-bottom: 0;padding: 0.3em;box-sizing: border-box;text-align: center;}#sk-container-id-4 label.sk-toggleable__label-arrow:before {content: \"▸\";float: left;margin-right: 0.25em;color: #696969;}#sk-container-id-4 label.sk-toggleable__label-arrow:hover:before {color: black;}#sk-container-id-4 div.sk-estimator:hover label.sk-toggleable__label-arrow:before {color: black;}#sk-container-id-4 div.sk-toggleable__content {max-height: 0;max-width: 0;overflow: hidden;text-align: left;background-color: #f0f8ff;}#sk-container-id-4 div.sk-toggleable__content pre {margin: 0.2em;color: black;border-radius: 0.25em;background-color: #f0f8ff;}#sk-container-id-4 input.sk-toggleable__control:checked~div.sk-toggleable__content {max-height: 200px;max-width: 100%;overflow: auto;}#sk-container-id-4 input.sk-toggleable__control:checked~label.sk-toggleable__label-arrow:before {content: \"▾\";}#sk-container-id-4 div.sk-estimator input.sk-toggleable__control:checked~label.sk-toggleable__label {background-color: #d4ebff;}#sk-container-id-4 div.sk-label input.sk-toggleable__control:checked~label.sk-toggleable__label {background-color: #d4ebff;}#sk-container-id-4 input.sk-hidden--visually {border: 0;clip: rect(1px 1px 1px 1px);clip: rect(1px, 1px, 1px, 1px);height: 1px;margin: -1px;overflow: hidden;padding: 0;position: absolute;width: 1px;}#sk-container-id-4 div.sk-estimator {font-family: monospace;background-color: #f0f8ff;border: 1px dotted black;border-radius: 0.25em;box-sizing: border-box;margin-bottom: 0.5em;}#sk-container-id-4 div.sk-estimator:hover {background-color: #d4ebff;}#sk-container-id-4 div.sk-parallel-item::after {content: \"\";width: 100%;border-bottom: 1px solid gray;flex-grow: 1;}#sk-container-id-4 div.sk-label:hover label.sk-toggleable__label {background-color: #d4ebff;}#sk-container-id-4 div.sk-serial::before {content: \"\";position: absolute;border-left: 1px solid gray;box-sizing: border-box;top: 0;bottom: 0;left: 50%;z-index: 0;}#sk-container-id-4 div.sk-serial {display: flex;flex-direction: column;align-items: center;background-color: white;padding-right: 0.2em;padding-left: 0.2em;position: relative;}#sk-container-id-4 div.sk-item {position: relative;z-index: 1;}#sk-container-id-4 div.sk-parallel {display: flex;align-items: stretch;justify-content: center;background-color: white;position: relative;}#sk-container-id-4 div.sk-item::before, #sk-container-id-4 div.sk-parallel-item::before {content: \"\";position: absolute;border-left: 1px solid gray;box-sizing: border-box;top: 0;bottom: 0;left: 50%;z-index: -1;}#sk-container-id-4 div.sk-parallel-item {display: flex;flex-direction: column;z-index: 1;position: relative;background-color: white;}#sk-container-id-4 div.sk-parallel-item:first-child::after {align-self: flex-end;width: 50%;}#sk-container-id-4 div.sk-parallel-item:last-child::after {align-self: flex-start;width: 50%;}#sk-container-id-4 div.sk-parallel-item:only-child::after {width: 0;}#sk-container-id-4 div.sk-dashed-wrapped {border: 1px dashed gray;margin: 0 0.4em 0.5em 0.4em;box-sizing: border-box;padding-bottom: 0.4em;background-color: white;}#sk-container-id-4 div.sk-label label {font-family: monospace;font-weight: bold;display: inline-block;line-height: 1.2em;}#sk-container-id-4 div.sk-label-container {text-align: center;}#sk-container-id-4 div.sk-container {/* jupyter's `normalize.less` sets `[hidden] { display: none; }` but bootstrap.min.css set `[hidden] { display: none !important; }` so we also need the `!important` here to be able to override the default hidden behavior on the sphinx rendered scikit-learn.org. See: https://github.com/scikit-learn/scikit-learn/issues/21755 */display: inline-block !important;position: relative;}#sk-container-id-4 div.sk-text-repr-fallback {display: none;}</style><div id=\"sk-container-id-4\" class=\"sk-top-container\"><div class=\"sk-text-repr-fallback\"><pre>DecisionTreeClassifier(criterion=&#x27;entropy&#x27;, random_state=1)</pre><b>In a Jupyter environment, please rerun this cell to show the HTML representation or trust the notebook. <br />On GitHub, the HTML representation is unable to render, please try loading this page with nbviewer.org.</b></div><div class=\"sk-container\" hidden><div class=\"sk-item\"><div class=\"sk-estimator sk-toggleable\"><input class=\"sk-toggleable__control sk-hidden--visually\" id=\"sk-estimator-id-4\" type=\"checkbox\" checked><label for=\"sk-estimator-id-4\" class=\"sk-toggleable__label sk-toggleable__label-arrow\">DecisionTreeClassifier</label><div class=\"sk-toggleable__content\"><pre>DecisionTreeClassifier(criterion=&#x27;entropy&#x27;, random_state=1)</pre></div></div></div></div></div>"
            ]
          },
          "metadata": {},
          "execution_count": 320
        }
      ],
      "source": [
        "decision_tree.fit(X_train_predict,y_train_target)"
      ]
    },
    {
      "cell_type": "markdown",
      "metadata": {
        "id": "uHG-EzY3MpoI"
      },
      "source": [
        "Now we are going to train our model on our data, and that's what the fit method allows us to do. We are saying that we are going to train our model on our predictive features (X_train_pred), and y_train_target contains what we are trying to predict."
      ]
    },
    {
      "cell_type": "code",
      "execution_count": 321,
      "metadata": {
        "id": "PsO39OmsMDKj"
      },
      "outputs": [],
      "source": [
        "original_prediction_result = decision_tree.predict(X_test_predict)"
      ]
    },
    {
      "cell_type": "markdown",
      "metadata": {
        "id": "bRBAVA-2NnQI"
      },
      "source": [
        "Now we are going to actually make the prediction on our predictive features, and we do that by using the predict method."
      ]
    },
    {
      "cell_type": "code",
      "execution_count": 322,
      "metadata": {
        "id": "C2CLh1JxMER8"
      },
      "outputs": [],
      "source": [
        "original_accuracy = accuracy_score(y_test_target, original_prediction_result)"
      ]
    },
    {
      "cell_type": "markdown",
      "metadata": {
        "id": "0cV_JMAEfWRN"
      },
      "source": [
        "We are now evaluating the accuracy of the decision tree's predictions on the test set.\n",
        "\n",
        "Now, basically, we apply the same process to normalise the data and standardise the data."
      ]
    },
    {
      "cell_type": "code",
      "execution_count": 323,
      "metadata": {
        "id": "AeuA-0PWhrvW"
      },
      "outputs": [],
      "source": [
        "normalised_X = Normalizer().fit(X_train_predict)\n",
        "X_train_norm = normalised_X.transform(X_train_predict)\n",
        "X_test_norm = normalised_X.transform(X_test_predict)\n",
        "\n",
        "decision_tree.fit(X_train_norm, y_train_target)\n",
        "normal_predict = decision_tree.predict(X_test_norm)\n",
        "normalised_accuracy = accuracy_score(y_test_target, normal_predict)"
      ]
    },
    {
      "cell_type": "markdown",
      "metadata": {
        "id": "3zV2pK6vn_Jb"
      },
      "source": [
        "Now we need to normalise the data, retrain the model and see if we get a higher accuracy. What this is doing is it is keeping the mean and common variance, but it is scaling the data (the values) to a range of 0 or 1."
      ]
    },
    {
      "cell_type": "code",
      "execution_count": 324,
      "metadata": {
        "id": "35AF0ToHhtLf"
      },
      "outputs": [],
      "source": [
        "standardised_X = StandardScaler().fit(X_train_predict)\n",
        "X_train_std = standardised_X.transform(X_train_predict)\n",
        "X_test_std = standardised_X.transform(X_test_predict)\n",
        "\n",
        "decision_tree.fit(X_train_std, y_train_target)\n",
        "stand_predict = decision_tree.predict(X_test_std)\n",
        "standard_accuracy = accuracy_score(y_test_target, stand_predict)"
      ]
    },
    {
      "cell_type": "markdown",
      "metadata": {
        "id": "F4J-6PMUonhy"
      },
      "source": [
        "Now that we have our normalised accuracy, as well as our original accuracy, now we need to standardise the data, retrain the model and see if we get a higher accuracy. which standardisation we are removing the so the data is all sent around zero and scaling the data to have a unit variance of one so now here all the features are on the same scale with the same variance. So it sort of makes things more equal in a sense."
      ]
    },
    {
      "cell_type": "code",
      "execution_count": 325,
      "metadata": {
        "id": "OftFQ-tHh_B8",
        "colab": {
          "base_uri": "https://localhost:8080/"
        },
        "outputId": "2d80c812-2b8b-4591-8b0a-f9b5b0071dce"
      },
      "outputs": [
        {
          "output_type": "stream",
          "name": "stdout",
          "text": [
            "Our Original Accuracy: 0.7765909728062798\n",
            "The Normalised Accuracy: 0.775385477992711\n",
            "The Standardised Accuracy: 0.7766190075693861\n"
          ]
        }
      ],
      "source": [
        "print('Our Original Accuracy:', original_accuracy)\n",
        "print('The Normalised Accuracy:', normalised_accuracy)\n",
        "print('The Standardised Accuracy:', standard_accuracy)"
      ]
    },
    {
      "cell_type": "markdown",
      "metadata": {
        "id": "yuJzwOkKgssD"
      },
      "source": [
        "From the previous results on the explanations, we can now see which method improves the performance of our model, and here are the results."
      ]
    },
    {
      "cell_type": "code",
      "execution_count": 326,
      "metadata": {
        "id": "PvUhuH9T_QZ7",
        "colab": {
          "base_uri": "https://localhost:8080/"
        },
        "outputId": "e8f5896c-24e2-4fcb-d889-ed548b12a036"
      },
      "outputs": [
        {
          "output_type": "stream",
          "name": "stdout",
          "text": [
            "              precision    recall  f1-score   support\n",
            "\n",
            "           0       0.80      0.86      0.83     22424\n",
            "           1       0.72      0.64      0.68     13246\n",
            "\n",
            "    accuracy                           0.78     35670\n",
            "   macro avg       0.76      0.75      0.75     35670\n",
            "weighted avg       0.77      0.78      0.77     35670\n",
            "\n"
          ]
        }
      ],
      "source": [
        "print(classification_report(y_test_target, original_prediction_result, output_dict=False))"
      ]
    },
    {
      "cell_type": "markdown",
      "metadata": {
        "id": "ABN5bMjm_tdJ"
      },
      "source": [
        "This is our classification report which shows us how our model has performed.\n",
        "\n",
        "In the results, we can see that our models 78% overall accuracy with our prediction. We can see how many of the predicted positive were actually positive, how many the model successfully predicted, we can see how many samples were allocated for each class, and the averages across classes weighted by support.\n",
        "\n",
        "So in conclusion, overall our model performed well.\n"
      ]
    },
    {
      "cell_type": "markdown",
      "metadata": {
        "id": "4D0nc4Kp4i4U"
      },
      "source": [
        "# 5. Feature Importance: (10%)"
      ]
    },
    {
      "cell_type": "code",
      "execution_count": 327,
      "metadata": {
        "id": "3R6n7MEJQw1h"
      },
      "outputs": [],
      "source": [
        "importance = decision_tree.feature_importances_"
      ]
    },
    {
      "cell_type": "markdown",
      "metadata": {
        "id": "F4Br1ElmRxNB"
      },
      "source": [
        "During training our model, the model will have figured out what features contributed the most to our predictions and features that didn't really contribute that much. Essentially here we are extracting those features that both have contributed significantly and not contributed that much from our model for analysis."
      ]
    },
    {
      "cell_type": "code",
      "execution_count": 328,
      "metadata": {
        "id": "avU-L55Cpz47",
        "colab": {
          "base_uri": "https://localhost:8080/"
        },
        "outputId": "88353b7e-c0a4-4e5c-bbf5-f6ecaf48a87f"
      },
      "outputs": [
        {
          "output_type": "stream",
          "name": "stdout",
          "text": [
            "Feature: lead_time                           Importance: 0.44607171688321734\n",
            "Feature: stays_in_weekend_nights             Importance: 0.040523407948119095\n",
            "Feature: stays_in_week_nights                Importance: 0.07110652140351663\n",
            "Feature: adults                              Importance: 0.05230234318870555\n",
            "Feature: children                            Importance: 0.027052363446115814\n",
            "Feature: babies                              Importance: 0.002934139046828706\n",
            "Feature: previous_cancellations              Importance: 0.06418446032089974\n",
            "Feature: previous_bookings_not_canceled      Importance: 0.015682167268353402\n",
            "Feature: required_car_parking_spaces         Importance: 0.043294519053277906\n",
            "Feature: total_of_special_requests           Importance: 0.10845554927086497\n",
            "Feature: booking_changes                     Importance: 0.047951272803339204\n",
            "Feature: stay_duration                       Importance: 0.07820273389754391\n",
            "Feature: is_repeated_guest                   Importance: 0.002238805469217794\n"
          ]
        }
      ],
      "source": [
        "for index, value in enumerate(importance):\n",
        "  print('Feature: %-35s Importance: %-5s' % (X.columns[index], value))"
      ]
    },
    {
      "cell_type": "markdown",
      "metadata": {
        "id": "9UM8tCEUrQGR"
      },
      "source": [
        "With these results, we can see that lead_time has the highest importance of 0.42. previous_cancellations and total_special_requests high importance of 0.1 which they both contributed significantly to the predictions, and stay_duration and adults have a moderate importance between 0.05 and 0.07.\n",
        "\n",
        "This results in the rest of the feature is not being useful for the models predictions."
      ]
    }
  ],
  "metadata": {
    "accelerator": "GPU",
    "colab": {
      "provenance": [],
      "mount_file_id": "1PMg5ZCmwEu_hlnCXuvC2vNpnVU6yaXO4",
      "authorship_tag": "ABX9TyNMySp6Y2JjojJUpWHV1F/k"
    },
    "kernelspec": {
      "display_name": "Python 3",
      "name": "python3"
    },
    "language_info": {
      "name": "python"
    }
  },
  "nbformat": 4,
  "nbformat_minor": 0
}